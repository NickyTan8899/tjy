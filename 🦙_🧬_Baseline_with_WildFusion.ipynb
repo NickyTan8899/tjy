{
  "metadata": {
    "kernelspec": {
      "display_name": "Python 3",
      "name": "python3"
    },
    "language_info": {
      "codemirror_mode": {
        "name": "ipython",
        "version": 3
      },
      "file_extension": ".py",
      "mimetype": "text/x-python",
      "name": "python",
      "nbconvert_exporter": "python",
      "pygments_lexer": "ipython3",
      "version": "3.10.12"
    },
    "kaggle": {
      "accelerator": "nvidiaTeslaT4",
      "dataSources": [
        {
          "sourceType": "competition",
          "sourceId": 91451,
          "databundleVersionId": 11223220
        },
        {
          "sourceType": "kernelVersion",
          "sourceId": 237145513
        },
        {
          "sourceType": "kernelVersion",
          "sourceId": 237179881
        }
      ],
      "dockerImageVersionId": 30919,
      "isInternetEnabled": true,
      "language": "python",
      "sourceType": "notebook",
      "isGpuEnabled": true
    },
    "colab": {
      "name": "🦙 🧬 Baseline with WildFusion",
      "provenance": [],
      "gpuType": "A100",
      "include_colab_link": true
    },
    "accelerator": "GPU",
    "widgets": {
      "application/vnd.jupyter.widget-state+json": {
        "c730355e224240368c976c250f23c7a5": {
          "model_module": "@jupyter-widgets/controls",
          "model_name": "VBoxModel",
          "model_module_version": "1.5.0",
          "state": {
            "_dom_classes": [],
            "_model_module": "@jupyter-widgets/controls",
            "_model_module_version": "1.5.0",
            "_model_name": "VBoxModel",
            "_view_count": null,
            "_view_module": "@jupyter-widgets/controls",
            "_view_module_version": "1.5.0",
            "_view_name": "VBoxView",
            "box_style": "",
            "children": [
              "IPY_MODEL_0ad7f65b5543473cb961b6589ed54dc0"
            ],
            "layout": "IPY_MODEL_e09bfffc84394ffe8ae5267e68f3ae46"
          }
        },
        "304f90a656c743a3b4c4bef81e53ccbe": {
          "model_module": "@jupyter-widgets/controls",
          "model_name": "HTMLModel",
          "model_module_version": "1.5.0",
          "state": {
            "_dom_classes": [],
            "_model_module": "@jupyter-widgets/controls",
            "_model_module_version": "1.5.0",
            "_model_name": "HTMLModel",
            "_view_count": null,
            "_view_module": "@jupyter-widgets/controls",
            "_view_module_version": "1.5.0",
            "_view_name": "HTMLView",
            "description": "",
            "description_tooltip": null,
            "layout": "IPY_MODEL_ec912b44b5e949e9b1d0c3356aa54c03",
            "placeholder": "​",
            "style": "IPY_MODEL_8d596cf1123c47de8357b28fe973bce1",
            "value": "<center> <img\nsrc=https://www.kaggle.com/static/images/site-logo.png\nalt='Kaggle'> <br> Create an API token from <a\nhref=\"https://www.kaggle.com/settings/account\" target=\"_blank\">your Kaggle\nsettings page</a> and paste it below along with your Kaggle username. <br> </center>"
          }
        },
        "521f2ee04e2343779d04f63e2548a212": {
          "model_module": "@jupyter-widgets/controls",
          "model_name": "TextModel",
          "model_module_version": "1.5.0",
          "state": {
            "_dom_classes": [],
            "_model_module": "@jupyter-widgets/controls",
            "_model_module_version": "1.5.0",
            "_model_name": "TextModel",
            "_view_count": null,
            "_view_module": "@jupyter-widgets/controls",
            "_view_module_version": "1.5.0",
            "_view_name": "TextView",
            "continuous_update": true,
            "description": "Username:",
            "description_tooltip": null,
            "disabled": false,
            "layout": "IPY_MODEL_ce9b196c31ca44c2ac9205d0189f89cd",
            "placeholder": "​",
            "style": "IPY_MODEL_ac2d9587c60e4a3f8e25c473162342c0",
            "value": "hathawaytan"
          }
        },
        "4c18ae8559be40a6bca985721f0798c6": {
          "model_module": "@jupyter-widgets/controls",
          "model_name": "PasswordModel",
          "model_module_version": "1.5.0",
          "state": {
            "_dom_classes": [],
            "_model_module": "@jupyter-widgets/controls",
            "_model_module_version": "1.5.0",
            "_model_name": "PasswordModel",
            "_view_count": null,
            "_view_module": "@jupyter-widgets/controls",
            "_view_module_version": "1.5.0",
            "_view_name": "PasswordView",
            "continuous_update": true,
            "description": "Token:",
            "description_tooltip": null,
            "disabled": false,
            "layout": "IPY_MODEL_4b9daa3628cd42e9b6f9bc293215b977",
            "placeholder": "​",
            "style": "IPY_MODEL_d3f924a16bc84952a9906666215a7f48",
            "value": ""
          }
        },
        "4d5a421cbc67429c944cd87ba900a3a5": {
          "model_module": "@jupyter-widgets/controls",
          "model_name": "ButtonModel",
          "model_module_version": "1.5.0",
          "state": {
            "_dom_classes": [],
            "_model_module": "@jupyter-widgets/controls",
            "_model_module_version": "1.5.0",
            "_model_name": "ButtonModel",
            "_view_count": null,
            "_view_module": "@jupyter-widgets/controls",
            "_view_module_version": "1.5.0",
            "_view_name": "ButtonView",
            "button_style": "",
            "description": "Login",
            "disabled": false,
            "icon": "",
            "layout": "IPY_MODEL_1deda6b18b7141c1b4d57b8d0e385ab7",
            "style": "IPY_MODEL_5cd86aa8f4d7405d97f830d71abdf5fa",
            "tooltip": ""
          }
        },
        "619652a57f334f90b7eb48ca6d51b628": {
          "model_module": "@jupyter-widgets/controls",
          "model_name": "HTMLModel",
          "model_module_version": "1.5.0",
          "state": {
            "_dom_classes": [],
            "_model_module": "@jupyter-widgets/controls",
            "_model_module_version": "1.5.0",
            "_model_name": "HTMLModel",
            "_view_count": null,
            "_view_module": "@jupyter-widgets/controls",
            "_view_module_version": "1.5.0",
            "_view_name": "HTMLView",
            "description": "",
            "description_tooltip": null,
            "layout": "IPY_MODEL_7ba8a9b016364e88b6f4a6196856d34b",
            "placeholder": "​",
            "style": "IPY_MODEL_db97d4e1bed74836b09621d20da853a7",
            "value": "\n<b>Thank You</b></center>"
          }
        },
        "e09bfffc84394ffe8ae5267e68f3ae46": {
          "model_module": "@jupyter-widgets/base",
          "model_name": "LayoutModel",
          "model_module_version": "1.2.0",
          "state": {
            "_model_module": "@jupyter-widgets/base",
            "_model_module_version": "1.2.0",
            "_model_name": "LayoutModel",
            "_view_count": null,
            "_view_module": "@jupyter-widgets/base",
            "_view_module_version": "1.2.0",
            "_view_name": "LayoutView",
            "align_content": null,
            "align_items": "center",
            "align_self": null,
            "border": null,
            "bottom": null,
            "display": "flex",
            "flex": null,
            "flex_flow": "column",
            "grid_area": null,
            "grid_auto_columns": null,
            "grid_auto_flow": null,
            "grid_auto_rows": null,
            "grid_column": null,
            "grid_gap": null,
            "grid_row": null,
            "grid_template_areas": null,
            "grid_template_columns": null,
            "grid_template_rows": null,
            "height": null,
            "justify_content": null,
            "justify_items": null,
            "left": null,
            "margin": null,
            "max_height": null,
            "max_width": null,
            "min_height": null,
            "min_width": null,
            "object_fit": null,
            "object_position": null,
            "order": null,
            "overflow": null,
            "overflow_x": null,
            "overflow_y": null,
            "padding": null,
            "right": null,
            "top": null,
            "visibility": null,
            "width": "50%"
          }
        },
        "ec912b44b5e949e9b1d0c3356aa54c03": {
          "model_module": "@jupyter-widgets/base",
          "model_name": "LayoutModel",
          "model_module_version": "1.2.0",
          "state": {
            "_model_module": "@jupyter-widgets/base",
            "_model_module_version": "1.2.0",
            "_model_name": "LayoutModel",
            "_view_count": null,
            "_view_module": "@jupyter-widgets/base",
            "_view_module_version": "1.2.0",
            "_view_name": "LayoutView",
            "align_content": null,
            "align_items": null,
            "align_self": null,
            "border": null,
            "bottom": null,
            "display": null,
            "flex": null,
            "flex_flow": null,
            "grid_area": null,
            "grid_auto_columns": null,
            "grid_auto_flow": null,
            "grid_auto_rows": null,
            "grid_column": null,
            "grid_gap": null,
            "grid_row": null,
            "grid_template_areas": null,
            "grid_template_columns": null,
            "grid_template_rows": null,
            "height": null,
            "justify_content": null,
            "justify_items": null,
            "left": null,
            "margin": null,
            "max_height": null,
            "max_width": null,
            "min_height": null,
            "min_width": null,
            "object_fit": null,
            "object_position": null,
            "order": null,
            "overflow": null,
            "overflow_x": null,
            "overflow_y": null,
            "padding": null,
            "right": null,
            "top": null,
            "visibility": null,
            "width": null
          }
        },
        "8d596cf1123c47de8357b28fe973bce1": {
          "model_module": "@jupyter-widgets/controls",
          "model_name": "DescriptionStyleModel",
          "model_module_version": "1.5.0",
          "state": {
            "_model_module": "@jupyter-widgets/controls",
            "_model_module_version": "1.5.0",
            "_model_name": "DescriptionStyleModel",
            "_view_count": null,
            "_view_module": "@jupyter-widgets/base",
            "_view_module_version": "1.2.0",
            "_view_name": "StyleView",
            "description_width": ""
          }
        },
        "ce9b196c31ca44c2ac9205d0189f89cd": {
          "model_module": "@jupyter-widgets/base",
          "model_name": "LayoutModel",
          "model_module_version": "1.2.0",
          "state": {
            "_model_module": "@jupyter-widgets/base",
            "_model_module_version": "1.2.0",
            "_model_name": "LayoutModel",
            "_view_count": null,
            "_view_module": "@jupyter-widgets/base",
            "_view_module_version": "1.2.0",
            "_view_name": "LayoutView",
            "align_content": null,
            "align_items": null,
            "align_self": null,
            "border": null,
            "bottom": null,
            "display": null,
            "flex": null,
            "flex_flow": null,
            "grid_area": null,
            "grid_auto_columns": null,
            "grid_auto_flow": null,
            "grid_auto_rows": null,
            "grid_column": null,
            "grid_gap": null,
            "grid_row": null,
            "grid_template_areas": null,
            "grid_template_columns": null,
            "grid_template_rows": null,
            "height": null,
            "justify_content": null,
            "justify_items": null,
            "left": null,
            "margin": null,
            "max_height": null,
            "max_width": null,
            "min_height": null,
            "min_width": null,
            "object_fit": null,
            "object_position": null,
            "order": null,
            "overflow": null,
            "overflow_x": null,
            "overflow_y": null,
            "padding": null,
            "right": null,
            "top": null,
            "visibility": null,
            "width": null
          }
        },
        "ac2d9587c60e4a3f8e25c473162342c0": {
          "model_module": "@jupyter-widgets/controls",
          "model_name": "DescriptionStyleModel",
          "model_module_version": "1.5.0",
          "state": {
            "_model_module": "@jupyter-widgets/controls",
            "_model_module_version": "1.5.0",
            "_model_name": "DescriptionStyleModel",
            "_view_count": null,
            "_view_module": "@jupyter-widgets/base",
            "_view_module_version": "1.2.0",
            "_view_name": "StyleView",
            "description_width": ""
          }
        },
        "4b9daa3628cd42e9b6f9bc293215b977": {
          "model_module": "@jupyter-widgets/base",
          "model_name": "LayoutModel",
          "model_module_version": "1.2.0",
          "state": {
            "_model_module": "@jupyter-widgets/base",
            "_model_module_version": "1.2.0",
            "_model_name": "LayoutModel",
            "_view_count": null,
            "_view_module": "@jupyter-widgets/base",
            "_view_module_version": "1.2.0",
            "_view_name": "LayoutView",
            "align_content": null,
            "align_items": null,
            "align_self": null,
            "border": null,
            "bottom": null,
            "display": null,
            "flex": null,
            "flex_flow": null,
            "grid_area": null,
            "grid_auto_columns": null,
            "grid_auto_flow": null,
            "grid_auto_rows": null,
            "grid_column": null,
            "grid_gap": null,
            "grid_row": null,
            "grid_template_areas": null,
            "grid_template_columns": null,
            "grid_template_rows": null,
            "height": null,
            "justify_content": null,
            "justify_items": null,
            "left": null,
            "margin": null,
            "max_height": null,
            "max_width": null,
            "min_height": null,
            "min_width": null,
            "object_fit": null,
            "object_position": null,
            "order": null,
            "overflow": null,
            "overflow_x": null,
            "overflow_y": null,
            "padding": null,
            "right": null,
            "top": null,
            "visibility": null,
            "width": null
          }
        },
        "d3f924a16bc84952a9906666215a7f48": {
          "model_module": "@jupyter-widgets/controls",
          "model_name": "DescriptionStyleModel",
          "model_module_version": "1.5.0",
          "state": {
            "_model_module": "@jupyter-widgets/controls",
            "_model_module_version": "1.5.0",
            "_model_name": "DescriptionStyleModel",
            "_view_count": null,
            "_view_module": "@jupyter-widgets/base",
            "_view_module_version": "1.2.0",
            "_view_name": "StyleView",
            "description_width": ""
          }
        },
        "1deda6b18b7141c1b4d57b8d0e385ab7": {
          "model_module": "@jupyter-widgets/base",
          "model_name": "LayoutModel",
          "model_module_version": "1.2.0",
          "state": {
            "_model_module": "@jupyter-widgets/base",
            "_model_module_version": "1.2.0",
            "_model_name": "LayoutModel",
            "_view_count": null,
            "_view_module": "@jupyter-widgets/base",
            "_view_module_version": "1.2.0",
            "_view_name": "LayoutView",
            "align_content": null,
            "align_items": null,
            "align_self": null,
            "border": null,
            "bottom": null,
            "display": null,
            "flex": null,
            "flex_flow": null,
            "grid_area": null,
            "grid_auto_columns": null,
            "grid_auto_flow": null,
            "grid_auto_rows": null,
            "grid_column": null,
            "grid_gap": null,
            "grid_row": null,
            "grid_template_areas": null,
            "grid_template_columns": null,
            "grid_template_rows": null,
            "height": null,
            "justify_content": null,
            "justify_items": null,
            "left": null,
            "margin": null,
            "max_height": null,
            "max_width": null,
            "min_height": null,
            "min_width": null,
            "object_fit": null,
            "object_position": null,
            "order": null,
            "overflow": null,
            "overflow_x": null,
            "overflow_y": null,
            "padding": null,
            "right": null,
            "top": null,
            "visibility": null,
            "width": null
          }
        },
        "5cd86aa8f4d7405d97f830d71abdf5fa": {
          "model_module": "@jupyter-widgets/controls",
          "model_name": "ButtonStyleModel",
          "model_module_version": "1.5.0",
          "state": {
            "_model_module": "@jupyter-widgets/controls",
            "_model_module_version": "1.5.0",
            "_model_name": "ButtonStyleModel",
            "_view_count": null,
            "_view_module": "@jupyter-widgets/base",
            "_view_module_version": "1.2.0",
            "_view_name": "StyleView",
            "button_color": null,
            "font_weight": ""
          }
        },
        "7ba8a9b016364e88b6f4a6196856d34b": {
          "model_module": "@jupyter-widgets/base",
          "model_name": "LayoutModel",
          "model_module_version": "1.2.0",
          "state": {
            "_model_module": "@jupyter-widgets/base",
            "_model_module_version": "1.2.0",
            "_model_name": "LayoutModel",
            "_view_count": null,
            "_view_module": "@jupyter-widgets/base",
            "_view_module_version": "1.2.0",
            "_view_name": "LayoutView",
            "align_content": null,
            "align_items": null,
            "align_self": null,
            "border": null,
            "bottom": null,
            "display": null,
            "flex": null,
            "flex_flow": null,
            "grid_area": null,
            "grid_auto_columns": null,
            "grid_auto_flow": null,
            "grid_auto_rows": null,
            "grid_column": null,
            "grid_gap": null,
            "grid_row": null,
            "grid_template_areas": null,
            "grid_template_columns": null,
            "grid_template_rows": null,
            "height": null,
            "justify_content": null,
            "justify_items": null,
            "left": null,
            "margin": null,
            "max_height": null,
            "max_width": null,
            "min_height": null,
            "min_width": null,
            "object_fit": null,
            "object_position": null,
            "order": null,
            "overflow": null,
            "overflow_x": null,
            "overflow_y": null,
            "padding": null,
            "right": null,
            "top": null,
            "visibility": null,
            "width": null
          }
        },
        "db97d4e1bed74836b09621d20da853a7": {
          "model_module": "@jupyter-widgets/controls",
          "model_name": "DescriptionStyleModel",
          "model_module_version": "1.5.0",
          "state": {
            "_model_module": "@jupyter-widgets/controls",
            "_model_module_version": "1.5.0",
            "_model_name": "DescriptionStyleModel",
            "_view_count": null,
            "_view_module": "@jupyter-widgets/base",
            "_view_module_version": "1.2.0",
            "_view_name": "StyleView",
            "description_width": ""
          }
        },
        "ad66c69cc0564e8791bdfe3436cc6049": {
          "model_module": "@jupyter-widgets/controls",
          "model_name": "LabelModel",
          "model_module_version": "1.5.0",
          "state": {
            "_dom_classes": [],
            "_model_module": "@jupyter-widgets/controls",
            "_model_module_version": "1.5.0",
            "_model_name": "LabelModel",
            "_view_count": null,
            "_view_module": "@jupyter-widgets/controls",
            "_view_module_version": "1.5.0",
            "_view_name": "LabelView",
            "description": "",
            "description_tooltip": null,
            "layout": "IPY_MODEL_c4a215abe97b4271bcbb33a9c5121664",
            "placeholder": "​",
            "style": "IPY_MODEL_3ca3bfb1178d4122842ac3b9c851d94a",
            "value": "Connecting..."
          }
        },
        "c4a215abe97b4271bcbb33a9c5121664": {
          "model_module": "@jupyter-widgets/base",
          "model_name": "LayoutModel",
          "model_module_version": "1.2.0",
          "state": {
            "_model_module": "@jupyter-widgets/base",
            "_model_module_version": "1.2.0",
            "_model_name": "LayoutModel",
            "_view_count": null,
            "_view_module": "@jupyter-widgets/base",
            "_view_module_version": "1.2.0",
            "_view_name": "LayoutView",
            "align_content": null,
            "align_items": null,
            "align_self": null,
            "border": null,
            "bottom": null,
            "display": null,
            "flex": null,
            "flex_flow": null,
            "grid_area": null,
            "grid_auto_columns": null,
            "grid_auto_flow": null,
            "grid_auto_rows": null,
            "grid_column": null,
            "grid_gap": null,
            "grid_row": null,
            "grid_template_areas": null,
            "grid_template_columns": null,
            "grid_template_rows": null,
            "height": null,
            "justify_content": null,
            "justify_items": null,
            "left": null,
            "margin": null,
            "max_height": null,
            "max_width": null,
            "min_height": null,
            "min_width": null,
            "object_fit": null,
            "object_position": null,
            "order": null,
            "overflow": null,
            "overflow_x": null,
            "overflow_y": null,
            "padding": null,
            "right": null,
            "top": null,
            "visibility": null,
            "width": null
          }
        },
        "3ca3bfb1178d4122842ac3b9c851d94a": {
          "model_module": "@jupyter-widgets/controls",
          "model_name": "DescriptionStyleModel",
          "model_module_version": "1.5.0",
          "state": {
            "_model_module": "@jupyter-widgets/controls",
            "_model_module_version": "1.5.0",
            "_model_name": "DescriptionStyleModel",
            "_view_count": null,
            "_view_module": "@jupyter-widgets/base",
            "_view_module_version": "1.2.0",
            "_view_name": "StyleView",
            "description_width": ""
          }
        },
        "0ad7f65b5543473cb961b6589ed54dc0": {
          "model_module": "@jupyter-widgets/controls",
          "model_name": "LabelModel",
          "model_module_version": "1.5.0",
          "state": {
            "_dom_classes": [],
            "_model_module": "@jupyter-widgets/controls",
            "_model_module_version": "1.5.0",
            "_model_name": "LabelModel",
            "_view_count": null,
            "_view_module": "@jupyter-widgets/controls",
            "_view_module_version": "1.5.0",
            "_view_name": "LabelView",
            "description": "",
            "description_tooltip": null,
            "layout": "IPY_MODEL_fc50750ddf194d199996a5624005cf33",
            "placeholder": "​",
            "style": "IPY_MODEL_382a4be624b345c59e3bff158647614c",
            "value": "Kaggle credentials successfully validated."
          }
        },
        "fc50750ddf194d199996a5624005cf33": {
          "model_module": "@jupyter-widgets/base",
          "model_name": "LayoutModel",
          "model_module_version": "1.2.0",
          "state": {
            "_model_module": "@jupyter-widgets/base",
            "_model_module_version": "1.2.0",
            "_model_name": "LayoutModel",
            "_view_count": null,
            "_view_module": "@jupyter-widgets/base",
            "_view_module_version": "1.2.0",
            "_view_name": "LayoutView",
            "align_content": null,
            "align_items": null,
            "align_self": null,
            "border": null,
            "bottom": null,
            "display": null,
            "flex": null,
            "flex_flow": null,
            "grid_area": null,
            "grid_auto_columns": null,
            "grid_auto_flow": null,
            "grid_auto_rows": null,
            "grid_column": null,
            "grid_gap": null,
            "grid_row": null,
            "grid_template_areas": null,
            "grid_template_columns": null,
            "grid_template_rows": null,
            "height": null,
            "justify_content": null,
            "justify_items": null,
            "left": null,
            "margin": null,
            "max_height": null,
            "max_width": null,
            "min_height": null,
            "min_width": null,
            "object_fit": null,
            "object_position": null,
            "order": null,
            "overflow": null,
            "overflow_x": null,
            "overflow_y": null,
            "padding": null,
            "right": null,
            "top": null,
            "visibility": null,
            "width": null
          }
        },
        "382a4be624b345c59e3bff158647614c": {
          "model_module": "@jupyter-widgets/controls",
          "model_name": "DescriptionStyleModel",
          "model_module_version": "1.5.0",
          "state": {
            "_model_module": "@jupyter-widgets/controls",
            "_model_module_version": "1.5.0",
            "_model_name": "DescriptionStyleModel",
            "_view_count": null,
            "_view_module": "@jupyter-widgets/base",
            "_view_module_version": "1.2.0",
            "_view_name": "StyleView",
            "description_width": ""
          }
        }
      }
    }
  },
  "nbformat_minor": 0,
  "nbformat": 4,
  "cells": [
    {
      "cell_type": "markdown",
      "metadata": {
        "id": "view-in-github",
        "colab_type": "text"
      },
      "source": [
        "<a href=\"https://colab.research.google.com/github/NickyTan8899/tjy/blob/main/%F0%9F%A6%99_%F0%9F%A7%AC_Baseline_with_WildFusion.ipynb\" target=\"_parent\"><img src=\"https://colab.research.google.com/assets/colab-badge.svg\" alt=\"Open In Colab\"/></a>"
      ]
    },
    {
      "source": [
        "# IMPORTANT: SOME KAGGLE DATA SOURCES ARE PRIVATE\n",
        "# RUN THIS CELL IN ORDER TO IMPORT YOUR KAGGLE DATA SOURCES.\n",
        "import kagglehub\n",
        "kagglehub.login()\n"
      ],
      "metadata": {
        "colab": {
          "base_uri": "https://localhost:8080/",
          "height": 84,
          "referenced_widgets": [
            "c730355e224240368c976c250f23c7a5",
            "304f90a656c743a3b4c4bef81e53ccbe",
            "521f2ee04e2343779d04f63e2548a212",
            "4c18ae8559be40a6bca985721f0798c6",
            "4d5a421cbc67429c944cd87ba900a3a5",
            "619652a57f334f90b7eb48ca6d51b628",
            "e09bfffc84394ffe8ae5267e68f3ae46",
            "ec912b44b5e949e9b1d0c3356aa54c03",
            "8d596cf1123c47de8357b28fe973bce1",
            "ce9b196c31ca44c2ac9205d0189f89cd",
            "ac2d9587c60e4a3f8e25c473162342c0",
            "4b9daa3628cd42e9b6f9bc293215b977",
            "d3f924a16bc84952a9906666215a7f48",
            "1deda6b18b7141c1b4d57b8d0e385ab7",
            "5cd86aa8f4d7405d97f830d71abdf5fa",
            "7ba8a9b016364e88b6f4a6196856d34b",
            "db97d4e1bed74836b09621d20da853a7",
            "ad66c69cc0564e8791bdfe3436cc6049",
            "c4a215abe97b4271bcbb33a9c5121664",
            "3ca3bfb1178d4122842ac3b9c851d94a",
            "0ad7f65b5543473cb961b6589ed54dc0",
            "fc50750ddf194d199996a5624005cf33",
            "382a4be624b345c59e3bff158647614c"
          ]
        },
        "id": "xcUIi970DCwh",
        "outputId": "fd1e50ee-01cd-418d-d0a6-91805e80bc46"
      },
      "cell_type": "code",
      "outputs": [
        {
          "output_type": "display_data",
          "data": {
            "text/plain": [
              "VBox(children=(HTML(value='<center> <img\\nsrc=https://www.kaggle.com/static/images/site-logo.png\\nalt=\\'Kaggle…"
            ],
            "application/vnd.jupyter.widget-view+json": {
              "version_major": 2,
              "version_minor": 0,
              "model_id": "c730355e224240368c976c250f23c7a5"
            }
          },
          "metadata": {}
        },
        {
          "output_type": "stream",
          "name": "stdout",
          "text": [
            "Kaggle credentials set.\n",
            "Kaggle credentials successfully validated.\n"
          ]
        }
      ],
      "execution_count": 1
    },
    {
      "source": [
        "# IMPORTANT: RUN THIS CELL IN ORDER TO IMPORT YOUR KAGGLE DATA SOURCES,\n",
        "# THEN FEEL FREE TO DELETE THIS CELL.\n",
        "# NOTE: THIS NOTEBOOK ENVIRONMENT DIFFERS FROM KAGGLE'S PYTHON\n",
        "# ENVIRONMENT SO THERE MAY BE MISSING LIBRARIES USED BY YOUR\n",
        "# NOTEBOOK.\n",
        "\n",
        "animal_clef_2025_path = kagglehub.competition_download('animal-clef-2025')\n",
        "hathawaytan_balanced_accuracy_path = kagglehub.notebook_output_download('hathawaytan/balanced-accuracy')\n",
        "hathawaytan_baseline_with_wildfusion_path = kagglehub.notebook_output_download('hathawaytan/baseline-with-wildfusion')\n",
        "\n",
        "print('Data source import complete.')\n"
      ],
      "metadata": {
        "colab": {
          "base_uri": "https://localhost:8080/"
        },
        "id": "gyH3HFqADCwi",
        "outputId": "aca7cfa5-2b21-44d6-9273-d0bb3f8e1142"
      },
      "cell_type": "code",
      "outputs": [
        {
          "output_type": "stream",
          "name": "stdout",
          "text": [
            "Data source import complete.\n"
          ]
        }
      ],
      "execution_count": 2
    },
    {
      "cell_type": "markdown",
      "source": [
        "# Baseline with WildFusion 🦙 🧬\n",
        "\n",
        "This notebook presents an improved baseline for individual identification using the **[MegaDescriptor](https://arxiv.org/pdf/2311.09118)** with **[ALIKED](https://arxiv.org/pdf/2304.03608)** methods, combined using [WildFusion](https://arxiv.org/pdf/2408.12934).\n",
        "\n",
        "## What is WildFusion?  \n",
        "WildFusion is a **feature fusion method** designed to improve the accuracy and robustness of models in individual recognition tasks. Traditional identification models often rely on a single type of feature representation, which may struggle with variations in lighting, angles, and occlusions. WildFusion overcomes these challenges by combining multiple feature extraction techniques, resulting in a more comprehensive and adaptable approach.  "
      ],
      "metadata": {
        "id": "qj291tgUDCwi"
      }
    },
    {
      "cell_type": "markdown",
      "source": [
        "## Dependencies instalation\n",
        "For the competition we provide two Python packages for loading and preprocessing of available datasets ([wildlife-datasets](https://github.com/WildlifeDatasets/wildlife-datasets)) and tools / method for animal re-identification ([wildlife-tools](https://github.com/WildlifeDatasets/wildlife-tools))."
      ],
      "metadata": {
        "execution": {
          "iopub.status.busy": "2025-02-28T16:18:13.120141Z",
          "iopub.execute_input": "2025-02-28T16:18:13.120497Z",
          "iopub.status.idle": "2025-02-28T16:18:13.1244Z",
          "shell.execute_reply.started": "2025-02-28T16:18:13.120467Z",
          "shell.execute_reply": "2025-02-28T16:18:13.12338Z"
        },
        "id": "0g0HSpPcDCwj"
      }
    },
    {
      "cell_type": "code",
      "source": [
        "!pip install git+https://github.com/WildlifeDatasets/wildlife-datasets@develop\n",
        "!pip install git+https://github.com/WildlifeDatasets/wildlife-tools"
      ],
      "metadata": {
        "_kg_hide-output": true,
        "execution": {
          "iopub.status.busy": "2025-05-01T13:12:01.55858Z",
          "iopub.execute_input": "2025-05-01T13:12:01.558858Z",
          "iopub.status.idle": "2025-05-01T13:12:41.396154Z",
          "shell.execute_reply.started": "2025-05-01T13:12:01.558834Z",
          "shell.execute_reply": "2025-05-01T13:12:41.395078Z"
        },
        "trusted": true,
        "colab": {
          "base_uri": "https://localhost:8080/",
          "height": 1000
        },
        "id": "M5bt5F3RDCwk",
        "outputId": "93ad97e8-5174-4c79-d064-74a0f56cd3da"
      },
      "outputs": [
        {
          "output_type": "stream",
          "name": "stdout",
          "text": [
            "Collecting git+https://github.com/WildlifeDatasets/wildlife-datasets@develop\n",
            "  Cloning https://github.com/WildlifeDatasets/wildlife-datasets (to revision develop) to /tmp/pip-req-build-obgfdez6\n",
            "  Running command git clone --filter=blob:none --quiet https://github.com/WildlifeDatasets/wildlife-datasets /tmp/pip-req-build-obgfdez6\n",
            "  Running command git checkout -b develop --track origin/develop\n",
            "  Switched to a new branch 'develop'\n",
            "  Branch 'develop' set up to track remote branch 'develop' from 'origin'.\n",
            "  Resolved https://github.com/WildlifeDatasets/wildlife-datasets to commit 753d9bf64861c3e17011136b3436bf58bf02317f\n",
            "  Installing build dependencies ... \u001b[?25l\u001b[?25hdone\n",
            "  Getting requirements to build wheel ... \u001b[?25l\u001b[?25hdone\n",
            "  Preparing metadata (pyproject.toml) ... \u001b[?25l\u001b[?25hdone\n",
            "Requirement already satisfied: numpy>=1.19.4 in /usr/local/lib/python3.11/dist-packages (from wildlife-datasets==1.0.6) (2.0.2)\n",
            "Requirement already satisfied: pandas>=1.1.4 in /usr/local/lib/python3.11/dist-packages (from wildlife-datasets==1.0.6) (2.2.2)\n",
            "Requirement already satisfied: tqdm>=4.62.3 in /usr/local/lib/python3.11/dist-packages (from wildlife-datasets==1.0.6) (4.67.1)\n",
            "Requirement already satisfied: opencv-python>=4.5.5.62 in /usr/local/lib/python3.11/dist-packages (from wildlife-datasets==1.0.6) (4.11.0.86)\n",
            "Requirement already satisfied: Pillow>=7.1.2 in /usr/local/lib/python3.11/dist-packages (from wildlife-datasets==1.0.6) (11.2.1)\n",
            "Requirement already satisfied: scikit-learn>=1.0.1 in /usr/local/lib/python3.11/dist-packages (from wildlife-datasets==1.0.6) (1.6.1)\n",
            "Requirement already satisfied: matplotlib>=3.5.1 in /usr/local/lib/python3.11/dist-packages (from wildlife-datasets==1.0.6) (3.10.0)\n",
            "Requirement already satisfied: pycocotools>=2.0.1 in /usr/local/lib/python3.11/dist-packages (from wildlife-datasets==1.0.6) (2.0.8)\n",
            "Collecting datasets (from wildlife-datasets==1.0.6)\n",
            "  Downloading datasets-3.5.1-py3-none-any.whl.metadata (19 kB)\n",
            "Requirement already satisfied: gdown in /usr/local/lib/python3.11/dist-packages (from wildlife-datasets==1.0.6) (5.2.0)\n",
            "Requirement already satisfied: kaggle in /usr/local/lib/python3.11/dist-packages (from wildlife-datasets==1.0.6) (1.7.4.2)\n",
            "Requirement already satisfied: contourpy>=1.0.1 in /usr/local/lib/python3.11/dist-packages (from matplotlib>=3.5.1->wildlife-datasets==1.0.6) (1.3.2)\n",
            "Requirement already satisfied: cycler>=0.10 in /usr/local/lib/python3.11/dist-packages (from matplotlib>=3.5.1->wildlife-datasets==1.0.6) (0.12.1)\n",
            "Requirement already satisfied: fonttools>=4.22.0 in /usr/local/lib/python3.11/dist-packages (from matplotlib>=3.5.1->wildlife-datasets==1.0.6) (4.57.0)\n",
            "Requirement already satisfied: kiwisolver>=1.3.1 in /usr/local/lib/python3.11/dist-packages (from matplotlib>=3.5.1->wildlife-datasets==1.0.6) (1.4.8)\n",
            "Requirement already satisfied: packaging>=20.0 in /usr/local/lib/python3.11/dist-packages (from matplotlib>=3.5.1->wildlife-datasets==1.0.6) (24.2)\n",
            "Requirement already satisfied: pyparsing>=2.3.1 in /usr/local/lib/python3.11/dist-packages (from matplotlib>=3.5.1->wildlife-datasets==1.0.6) (3.2.3)\n",
            "Requirement already satisfied: python-dateutil>=2.7 in /usr/local/lib/python3.11/dist-packages (from matplotlib>=3.5.1->wildlife-datasets==1.0.6) (2.9.0.post0)\n",
            "Requirement already satisfied: pytz>=2020.1 in /usr/local/lib/python3.11/dist-packages (from pandas>=1.1.4->wildlife-datasets==1.0.6) (2025.2)\n",
            "Requirement already satisfied: tzdata>=2022.7 in /usr/local/lib/python3.11/dist-packages (from pandas>=1.1.4->wildlife-datasets==1.0.6) (2025.2)\n",
            "Requirement already satisfied: scipy>=1.6.0 in /usr/local/lib/python3.11/dist-packages (from scikit-learn>=1.0.1->wildlife-datasets==1.0.6) (1.15.2)\n",
            "Requirement already satisfied: joblib>=1.2.0 in /usr/local/lib/python3.11/dist-packages (from scikit-learn>=1.0.1->wildlife-datasets==1.0.6) (1.4.2)\n",
            "Requirement already satisfied: threadpoolctl>=3.1.0 in /usr/local/lib/python3.11/dist-packages (from scikit-learn>=1.0.1->wildlife-datasets==1.0.6) (3.6.0)\n",
            "Requirement already satisfied: filelock in /usr/local/lib/python3.11/dist-packages (from datasets->wildlife-datasets==1.0.6) (3.18.0)\n",
            "Requirement already satisfied: pyarrow>=15.0.0 in /usr/local/lib/python3.11/dist-packages (from datasets->wildlife-datasets==1.0.6) (18.1.0)\n",
            "Collecting dill<0.3.9,>=0.3.0 (from datasets->wildlife-datasets==1.0.6)\n",
            "  Downloading dill-0.3.8-py3-none-any.whl.metadata (10 kB)\n",
            "Requirement already satisfied: requests>=2.32.2 in /usr/local/lib/python3.11/dist-packages (from datasets->wildlife-datasets==1.0.6) (2.32.3)\n",
            "Collecting xxhash (from datasets->wildlife-datasets==1.0.6)\n",
            "  Downloading xxhash-3.5.0-cp311-cp311-manylinux_2_17_x86_64.manylinux2014_x86_64.whl.metadata (12 kB)\n",
            "Collecting multiprocess<0.70.17 (from datasets->wildlife-datasets==1.0.6)\n",
            "  Downloading multiprocess-0.70.16-py311-none-any.whl.metadata (7.2 kB)\n",
            "Collecting fsspec<=2025.3.0,>=2023.1.0 (from fsspec[http]<=2025.3.0,>=2023.1.0->datasets->wildlife-datasets==1.0.6)\n",
            "  Downloading fsspec-2025.3.0-py3-none-any.whl.metadata (11 kB)\n",
            "Requirement already satisfied: aiohttp in /usr/local/lib/python3.11/dist-packages (from datasets->wildlife-datasets==1.0.6) (3.11.15)\n",
            "Requirement already satisfied: huggingface-hub>=0.24.0 in /usr/local/lib/python3.11/dist-packages (from datasets->wildlife-datasets==1.0.6) (0.30.2)\n",
            "Requirement already satisfied: pyyaml>=5.1 in /usr/local/lib/python3.11/dist-packages (from datasets->wildlife-datasets==1.0.6) (6.0.2)\n",
            "Requirement already satisfied: beautifulsoup4 in /usr/local/lib/python3.11/dist-packages (from gdown->wildlife-datasets==1.0.6) (4.13.4)\n",
            "Requirement already satisfied: bleach in /usr/local/lib/python3.11/dist-packages (from kaggle->wildlife-datasets==1.0.6) (6.2.0)\n",
            "Requirement already satisfied: certifi>=14.05.14 in /usr/local/lib/python3.11/dist-packages (from kaggle->wildlife-datasets==1.0.6) (2025.4.26)\n",
            "Requirement already satisfied: charset-normalizer in /usr/local/lib/python3.11/dist-packages (from kaggle->wildlife-datasets==1.0.6) (3.4.1)\n",
            "Requirement already satisfied: idna in /usr/local/lib/python3.11/dist-packages (from kaggle->wildlife-datasets==1.0.6) (3.10)\n",
            "Requirement already satisfied: protobuf in /usr/local/lib/python3.11/dist-packages (from kaggle->wildlife-datasets==1.0.6) (5.29.4)\n",
            "Requirement already satisfied: python-slugify in /usr/local/lib/python3.11/dist-packages (from kaggle->wildlife-datasets==1.0.6) (8.0.4)\n",
            "Requirement already satisfied: setuptools>=21.0.0 in /usr/local/lib/python3.11/dist-packages (from kaggle->wildlife-datasets==1.0.6) (75.2.0)\n",
            "Requirement already satisfied: six>=1.10 in /usr/local/lib/python3.11/dist-packages (from kaggle->wildlife-datasets==1.0.6) (1.17.0)\n",
            "Requirement already satisfied: text-unidecode in /usr/local/lib/python3.11/dist-packages (from kaggle->wildlife-datasets==1.0.6) (1.3)\n",
            "Requirement already satisfied: urllib3>=1.15.1 in /usr/local/lib/python3.11/dist-packages (from kaggle->wildlife-datasets==1.0.6) (2.4.0)\n",
            "Requirement already satisfied: webencodings in /usr/local/lib/python3.11/dist-packages (from kaggle->wildlife-datasets==1.0.6) (0.5.1)\n",
            "Requirement already satisfied: aiohappyeyeballs>=2.3.0 in /usr/local/lib/python3.11/dist-packages (from aiohttp->datasets->wildlife-datasets==1.0.6) (2.6.1)\n",
            "Requirement already satisfied: aiosignal>=1.1.2 in /usr/local/lib/python3.11/dist-packages (from aiohttp->datasets->wildlife-datasets==1.0.6) (1.3.2)\n",
            "Requirement already satisfied: attrs>=17.3.0 in /usr/local/lib/python3.11/dist-packages (from aiohttp->datasets->wildlife-datasets==1.0.6) (25.3.0)\n",
            "Requirement already satisfied: frozenlist>=1.1.1 in /usr/local/lib/python3.11/dist-packages (from aiohttp->datasets->wildlife-datasets==1.0.6) (1.6.0)\n",
            "Requirement already satisfied: multidict<7.0,>=4.5 in /usr/local/lib/python3.11/dist-packages (from aiohttp->datasets->wildlife-datasets==1.0.6) (6.4.3)\n",
            "Requirement already satisfied: propcache>=0.2.0 in /usr/local/lib/python3.11/dist-packages (from aiohttp->datasets->wildlife-datasets==1.0.6) (0.3.1)\n",
            "Requirement already satisfied: yarl<2.0,>=1.17.0 in /usr/local/lib/python3.11/dist-packages (from aiohttp->datasets->wildlife-datasets==1.0.6) (1.20.0)\n",
            "Requirement already satisfied: typing-extensions>=3.7.4.3 in /usr/local/lib/python3.11/dist-packages (from huggingface-hub>=0.24.0->datasets->wildlife-datasets==1.0.6) (4.13.2)\n",
            "Requirement already satisfied: soupsieve>1.2 in /usr/local/lib/python3.11/dist-packages (from beautifulsoup4->gdown->wildlife-datasets==1.0.6) (2.7)\n",
            "Requirement already satisfied: PySocks!=1.5.7,>=1.5.6 in /usr/local/lib/python3.11/dist-packages (from requests[socks]->gdown->wildlife-datasets==1.0.6) (1.7.1)\n",
            "Downloading datasets-3.5.1-py3-none-any.whl (491 kB)\n",
            "\u001b[2K   \u001b[90m━━━━━━━━━━━━━━━━━━━━━━━━━━━━━━━━━━━━━━━━\u001b[0m \u001b[32m491.4/491.4 kB\u001b[0m \u001b[31m9.0 MB/s\u001b[0m eta \u001b[36m0:00:00\u001b[0m\n",
            "\u001b[?25hDownloading dill-0.3.8-py3-none-any.whl (116 kB)\n",
            "\u001b[2K   \u001b[90m━━━━━━━━━━━━━━━━━━━━━━━━━━━━━━━━━━━━━━━━\u001b[0m \u001b[32m116.3/116.3 kB\u001b[0m \u001b[31m10.8 MB/s\u001b[0m eta \u001b[36m0:00:00\u001b[0m\n",
            "\u001b[?25hDownloading fsspec-2025.3.0-py3-none-any.whl (193 kB)\n",
            "\u001b[2K   \u001b[90m━━━━━━━━━━━━━━━━━━━━━━━━━━━━━━━━━━━━━━━━\u001b[0m \u001b[32m193.6/193.6 kB\u001b[0m \u001b[31m19.2 MB/s\u001b[0m eta \u001b[36m0:00:00\u001b[0m\n",
            "\u001b[?25hDownloading multiprocess-0.70.16-py311-none-any.whl (143 kB)\n",
            "\u001b[2K   \u001b[90m━━━━━━━━━━━━━━━━━━━━━━━━━━━━━━━━━━━━━━━━\u001b[0m \u001b[32m143.5/143.5 kB\u001b[0m \u001b[31m12.2 MB/s\u001b[0m eta \u001b[36m0:00:00\u001b[0m\n",
            "\u001b[?25hDownloading xxhash-3.5.0-cp311-cp311-manylinux_2_17_x86_64.manylinux2014_x86_64.whl (194 kB)\n",
            "\u001b[2K   \u001b[90m━━━━━━━━━━━━━━━━━━━━━━━━━━━━━━━━━━━━━━━━\u001b[0m \u001b[32m194.8/194.8 kB\u001b[0m \u001b[31m16.8 MB/s\u001b[0m eta \u001b[36m0:00:00\u001b[0m\n",
            "\u001b[?25hBuilding wheels for collected packages: wildlife-datasets\n",
            "  Building wheel for wildlife-datasets (pyproject.toml) ... \u001b[?25l\u001b[?25hdone\n",
            "  Created wheel for wildlife-datasets: filename=wildlife_datasets-1.0.6-py3-none-any.whl size=88077 sha256=9da9a10ca9b08edcc1eff827c8da78be497e33aa0e77aee40ff227d3d7c25782\n",
            "  Stored in directory: /tmp/pip-ephem-wheel-cache-tgwlc_7c/wheels/a4/1c/dc/1ccc716ee392f8631bc5e29e97043e86bfc03b2c8da41260ee\n",
            "Successfully built wildlife-datasets\n",
            "Installing collected packages: xxhash, fsspec, dill, multiprocess, datasets, wildlife-datasets\n",
            "  Attempting uninstall: fsspec\n",
            "    Found existing installation: fsspec 2025.3.2\n",
            "    Uninstalling fsspec-2025.3.2:\n",
            "      Successfully uninstalled fsspec-2025.3.2\n",
            "\u001b[31mERROR: pip's dependency resolver does not currently take into account all the packages that are installed. This behaviour is the source of the following dependency conflicts.\n",
            "torch 2.6.0+cu124 requires nvidia-cublas-cu12==12.4.5.8; platform_system == \"Linux\" and platform_machine == \"x86_64\", but you have nvidia-cublas-cu12 12.5.3.2 which is incompatible.\n",
            "torch 2.6.0+cu124 requires nvidia-cuda-cupti-cu12==12.4.127; platform_system == \"Linux\" and platform_machine == \"x86_64\", but you have nvidia-cuda-cupti-cu12 12.5.82 which is incompatible.\n",
            "torch 2.6.0+cu124 requires nvidia-cuda-nvrtc-cu12==12.4.127; platform_system == \"Linux\" and platform_machine == \"x86_64\", but you have nvidia-cuda-nvrtc-cu12 12.5.82 which is incompatible.\n",
            "torch 2.6.0+cu124 requires nvidia-cuda-runtime-cu12==12.4.127; platform_system == \"Linux\" and platform_machine == \"x86_64\", but you have nvidia-cuda-runtime-cu12 12.5.82 which is incompatible.\n",
            "torch 2.6.0+cu124 requires nvidia-cudnn-cu12==9.1.0.70; platform_system == \"Linux\" and platform_machine == \"x86_64\", but you have nvidia-cudnn-cu12 9.3.0.75 which is incompatible.\n",
            "torch 2.6.0+cu124 requires nvidia-cufft-cu12==11.2.1.3; platform_system == \"Linux\" and platform_machine == \"x86_64\", but you have nvidia-cufft-cu12 11.2.3.61 which is incompatible.\n",
            "torch 2.6.0+cu124 requires nvidia-curand-cu12==10.3.5.147; platform_system == \"Linux\" and platform_machine == \"x86_64\", but you have nvidia-curand-cu12 10.3.6.82 which is incompatible.\n",
            "torch 2.6.0+cu124 requires nvidia-cusolver-cu12==11.6.1.9; platform_system == \"Linux\" and platform_machine == \"x86_64\", but you have nvidia-cusolver-cu12 11.6.3.83 which is incompatible.\n",
            "torch 2.6.0+cu124 requires nvidia-cusparse-cu12==12.3.1.170; platform_system == \"Linux\" and platform_machine == \"x86_64\", but you have nvidia-cusparse-cu12 12.5.1.3 which is incompatible.\n",
            "torch 2.6.0+cu124 requires nvidia-nvjitlink-cu12==12.4.127; platform_system == \"Linux\" and platform_machine == \"x86_64\", but you have nvidia-nvjitlink-cu12 12.5.82 which is incompatible.\n",
            "gcsfs 2025.3.2 requires fsspec==2025.3.2, but you have fsspec 2025.3.0 which is incompatible.\u001b[0m\u001b[31m\n",
            "\u001b[0mSuccessfully installed datasets-3.5.1 dill-0.3.8 fsspec-2025.3.0 multiprocess-0.70.16 wildlife-datasets-1.0.6 xxhash-3.5.0\n",
            "Collecting git+https://github.com/WildlifeDatasets/wildlife-tools\n",
            "  Cloning https://github.com/WildlifeDatasets/wildlife-tools to /tmp/pip-req-build-hr89pyuw\n",
            "  Running command git clone --filter=blob:none --quiet https://github.com/WildlifeDatasets/wildlife-tools /tmp/pip-req-build-hr89pyuw\n",
            "  Resolved https://github.com/WildlifeDatasets/wildlife-tools to commit 71aa4656d16afe4caae6d84af642bab81dc2d06d\n",
            "  Installing build dependencies ... \u001b[?25l\u001b[?25hdone\n",
            "  Getting requirements to build wheel ... \u001b[?25l\u001b[?25hdone\n",
            "  Preparing metadata (pyproject.toml) ... \u001b[?25l\u001b[?25hdone\n",
            "Collecting gluefactory@ git+https://github.com/cvg/glue-factory.git@1f56839db2242929960d70f85bfac6c19ef2821c (from wildlife-tools==1.0.1)\n",
            "  Cloning https://github.com/cvg/glue-factory.git (to revision 1f56839db2242929960d70f85bfac6c19ef2821c) to /tmp/pip-install-p28dap3t/gluefactory_d1cbf95a0e4748f485caf43f057dc627\n",
            "  Running command git clone --filter=blob:none --quiet https://github.com/cvg/glue-factory.git /tmp/pip-install-p28dap3t/gluefactory_d1cbf95a0e4748f485caf43f057dc627\n",
            "  Running command git rev-parse -q --verify 'sha^1f56839db2242929960d70f85bfac6c19ef2821c'\n",
            "  Running command git fetch -q https://github.com/cvg/glue-factory.git 1f56839db2242929960d70f85bfac6c19ef2821c\n",
            "  Resolved https://github.com/cvg/glue-factory.git to commit 1f56839db2242929960d70f85bfac6c19ef2821c\n",
            "  Installing build dependencies ... \u001b[?25l\u001b[?25hdone\n",
            "  Getting requirements to build wheel ... \u001b[?25l\u001b[?25hdone\n",
            "  Preparing metadata (pyproject.toml) ... \u001b[?25l\u001b[?25hdone\n",
            "Requirement already satisfied: torch>=2.0.1 in /usr/local/lib/python3.11/dist-packages (from wildlife-tools==1.0.1) (2.6.0+cu124)\n",
            "Requirement already satisfied: timm>=0.9.2 in /usr/local/lib/python3.11/dist-packages (from wildlife-tools==1.0.1) (1.0.15)\n",
            "Requirement already satisfied: numpy>=1.19.4 in /usr/local/lib/python3.11/dist-packages (from wildlife-tools==1.0.1) (2.0.2)\n",
            "Requirement already satisfied: pandas>=1.1.4 in /usr/local/lib/python3.11/dist-packages (from wildlife-tools==1.0.1) (2.2.2)\n",
            "Requirement already satisfied: tqdm>=4.62.3 in /usr/local/lib/python3.11/dist-packages (from wildlife-tools==1.0.1) (4.67.1)\n",
            "Requirement already satisfied: opencv-python>=4.5.5.62 in /usr/local/lib/python3.11/dist-packages (from wildlife-tools==1.0.1) (4.11.0.86)\n",
            "Requirement already satisfied: Pillow>=7.1.2 in /usr/local/lib/python3.11/dist-packages (from wildlife-tools==1.0.1) (11.2.1)\n",
            "Requirement already satisfied: scikit-learn>=1.0.1 in /usr/local/lib/python3.11/dist-packages (from wildlife-tools==1.0.1) (1.6.1)\n",
            "Requirement already satisfied: pycocotools in /usr/local/lib/python3.11/dist-packages (from wildlife-tools==1.0.1) (2.0.8)\n",
            "Requirement already satisfied: tensorboard in /usr/local/lib/python3.11/dist-packages (from wildlife-tools==1.0.1) (2.18.0)\n",
            "Collecting pytorch_metric_learning (from wildlife-tools==1.0.1)\n",
            "  Downloading pytorch_metric_learning-2.8.1-py3-none-any.whl.metadata (18 kB)\n",
            "Requirement already satisfied: transformers>=4.30.2 in /usr/local/lib/python3.11/dist-packages (from wildlife-tools==1.0.1) (4.51.3)\n",
            "Requirement already satisfied: wildlife-datasets>=0.3.4 in /usr/local/lib/python3.11/dist-packages (from wildlife-tools==1.0.1) (1.0.6)\n",
            "Collecting kornia>=0.6.12 (from wildlife-tools==1.0.1)\n",
            "  Downloading kornia-0.8.0-py2.py3-none-any.whl.metadata (17 kB)\n",
            "Collecting kornia_rs>=0.1.0 (from kornia>=0.6.12->wildlife-tools==1.0.1)\n",
            "  Downloading kornia_rs-0.1.8-cp311-cp311-manylinux_2_17_x86_64.manylinux2014_x86_64.whl.metadata (10 kB)\n",
            "Requirement already satisfied: packaging in /usr/local/lib/python3.11/dist-packages (from kornia>=0.6.12->wildlife-tools==1.0.1) (24.2)\n",
            "Requirement already satisfied: python-dateutil>=2.8.2 in /usr/local/lib/python3.11/dist-packages (from pandas>=1.1.4->wildlife-tools==1.0.1) (2.9.0.post0)\n",
            "Requirement already satisfied: pytz>=2020.1 in /usr/local/lib/python3.11/dist-packages (from pandas>=1.1.4->wildlife-tools==1.0.1) (2025.2)\n",
            "Requirement already satisfied: tzdata>=2022.7 in /usr/local/lib/python3.11/dist-packages (from pandas>=1.1.4->wildlife-tools==1.0.1) (2025.2)\n",
            "Requirement already satisfied: scipy>=1.6.0 in /usr/local/lib/python3.11/dist-packages (from scikit-learn>=1.0.1->wildlife-tools==1.0.1) (1.15.2)\n",
            "Requirement already satisfied: joblib>=1.2.0 in /usr/local/lib/python3.11/dist-packages (from scikit-learn>=1.0.1->wildlife-tools==1.0.1) (1.4.2)\n",
            "Requirement already satisfied: threadpoolctl>=3.1.0 in /usr/local/lib/python3.11/dist-packages (from scikit-learn>=1.0.1->wildlife-tools==1.0.1) (3.6.0)\n",
            "Requirement already satisfied: torchvision in /usr/local/lib/python3.11/dist-packages (from timm>=0.9.2->wildlife-tools==1.0.1) (0.21.0+cu124)\n",
            "Requirement already satisfied: pyyaml in /usr/local/lib/python3.11/dist-packages (from timm>=0.9.2->wildlife-tools==1.0.1) (6.0.2)\n",
            "Requirement already satisfied: huggingface_hub in /usr/local/lib/python3.11/dist-packages (from timm>=0.9.2->wildlife-tools==1.0.1) (0.30.2)\n",
            "Requirement already satisfied: safetensors in /usr/local/lib/python3.11/dist-packages (from timm>=0.9.2->wildlife-tools==1.0.1) (0.5.3)\n",
            "Requirement already satisfied: filelock in /usr/local/lib/python3.11/dist-packages (from torch>=2.0.1->wildlife-tools==1.0.1) (3.18.0)\n",
            "Requirement already satisfied: typing-extensions>=4.10.0 in /usr/local/lib/python3.11/dist-packages (from torch>=2.0.1->wildlife-tools==1.0.1) (4.13.2)\n",
            "Requirement already satisfied: networkx in /usr/local/lib/python3.11/dist-packages (from torch>=2.0.1->wildlife-tools==1.0.1) (3.4.2)\n",
            "Requirement already satisfied: jinja2 in /usr/local/lib/python3.11/dist-packages (from torch>=2.0.1->wildlife-tools==1.0.1) (3.1.6)\n",
            "Requirement already satisfied: fsspec in /usr/local/lib/python3.11/dist-packages (from torch>=2.0.1->wildlife-tools==1.0.1) (2025.3.0)\n",
            "Collecting nvidia-cuda-nvrtc-cu12==12.4.127 (from torch>=2.0.1->wildlife-tools==1.0.1)\n",
            "  Downloading nvidia_cuda_nvrtc_cu12-12.4.127-py3-none-manylinux2014_x86_64.whl.metadata (1.5 kB)\n",
            "Collecting nvidia-cuda-runtime-cu12==12.4.127 (from torch>=2.0.1->wildlife-tools==1.0.1)\n",
            "  Downloading nvidia_cuda_runtime_cu12-12.4.127-py3-none-manylinux2014_x86_64.whl.metadata (1.5 kB)\n",
            "Collecting nvidia-cuda-cupti-cu12==12.4.127 (from torch>=2.0.1->wildlife-tools==1.0.1)\n",
            "  Downloading nvidia_cuda_cupti_cu12-12.4.127-py3-none-manylinux2014_x86_64.whl.metadata (1.6 kB)\n",
            "Collecting nvidia-cudnn-cu12==9.1.0.70 (from torch>=2.0.1->wildlife-tools==1.0.1)\n",
            "  Downloading nvidia_cudnn_cu12-9.1.0.70-py3-none-manylinux2014_x86_64.whl.metadata (1.6 kB)\n",
            "Collecting nvidia-cublas-cu12==12.4.5.8 (from torch>=2.0.1->wildlife-tools==1.0.1)\n",
            "  Downloading nvidia_cublas_cu12-12.4.5.8-py3-none-manylinux2014_x86_64.whl.metadata (1.5 kB)\n",
            "Collecting nvidia-cufft-cu12==11.2.1.3 (from torch>=2.0.1->wildlife-tools==1.0.1)\n",
            "  Downloading nvidia_cufft_cu12-11.2.1.3-py3-none-manylinux2014_x86_64.whl.metadata (1.5 kB)\n",
            "Collecting nvidia-curand-cu12==10.3.5.147 (from torch>=2.0.1->wildlife-tools==1.0.1)\n",
            "  Downloading nvidia_curand_cu12-10.3.5.147-py3-none-manylinux2014_x86_64.whl.metadata (1.5 kB)\n",
            "Collecting nvidia-cusolver-cu12==11.6.1.9 (from torch>=2.0.1->wildlife-tools==1.0.1)\n",
            "  Downloading nvidia_cusolver_cu12-11.6.1.9-py3-none-manylinux2014_x86_64.whl.metadata (1.6 kB)\n",
            "Collecting nvidia-cusparse-cu12==12.3.1.170 (from torch>=2.0.1->wildlife-tools==1.0.1)\n",
            "  Downloading nvidia_cusparse_cu12-12.3.1.170-py3-none-manylinux2014_x86_64.whl.metadata (1.6 kB)\n",
            "Requirement already satisfied: nvidia-cusparselt-cu12==0.6.2 in /usr/local/lib/python3.11/dist-packages (from torch>=2.0.1->wildlife-tools==1.0.1) (0.6.2)\n",
            "Requirement already satisfied: nvidia-nccl-cu12==2.21.5 in /usr/local/lib/python3.11/dist-packages (from torch>=2.0.1->wildlife-tools==1.0.1) (2.21.5)\n",
            "Requirement already satisfied: nvidia-nvtx-cu12==12.4.127 in /usr/local/lib/python3.11/dist-packages (from torch>=2.0.1->wildlife-tools==1.0.1) (12.4.127)\n",
            "Collecting nvidia-nvjitlink-cu12==12.4.127 (from torch>=2.0.1->wildlife-tools==1.0.1)\n",
            "  Downloading nvidia_nvjitlink_cu12-12.4.127-py3-none-manylinux2014_x86_64.whl.metadata (1.5 kB)\n",
            "Requirement already satisfied: triton==3.2.0 in /usr/local/lib/python3.11/dist-packages (from torch>=2.0.1->wildlife-tools==1.0.1) (3.2.0)\n",
            "Requirement already satisfied: sympy==1.13.1 in /usr/local/lib/python3.11/dist-packages (from torch>=2.0.1->wildlife-tools==1.0.1) (1.13.1)\n",
            "Requirement already satisfied: mpmath<1.4,>=1.1.0 in /usr/local/lib/python3.11/dist-packages (from sympy==1.13.1->torch>=2.0.1->wildlife-tools==1.0.1) (1.3.0)\n",
            "Requirement already satisfied: regex!=2019.12.17 in /usr/local/lib/python3.11/dist-packages (from transformers>=4.30.2->wildlife-tools==1.0.1) (2024.11.6)\n",
            "Requirement already satisfied: requests in /usr/local/lib/python3.11/dist-packages (from transformers>=4.30.2->wildlife-tools==1.0.1) (2.32.3)\n",
            "Requirement already satisfied: tokenizers<0.22,>=0.21 in /usr/local/lib/python3.11/dist-packages (from transformers>=4.30.2->wildlife-tools==1.0.1) (0.21.1)\n",
            "Requirement already satisfied: matplotlib>=3.5.1 in /usr/local/lib/python3.11/dist-packages (from wildlife-datasets>=0.3.4->wildlife-tools==1.0.1) (3.10.0)\n",
            "Requirement already satisfied: datasets in /usr/local/lib/python3.11/dist-packages (from wildlife-datasets>=0.3.4->wildlife-tools==1.0.1) (3.5.1)\n",
            "Requirement already satisfied: gdown in /usr/local/lib/python3.11/dist-packages (from wildlife-datasets>=0.3.4->wildlife-tools==1.0.1) (5.2.0)\n",
            "Requirement already satisfied: kaggle in /usr/local/lib/python3.11/dist-packages (from wildlife-datasets>=0.3.4->wildlife-tools==1.0.1) (1.7.4.2)\n",
            "Collecting lightglue@ git+https://github.com/cvg/LightGlue.git (from gluefactory@ git+https://github.com/cvg/glue-factory.git@1f56839db2242929960d70f85bfac6c19ef2821c->wildlife-tools==1.0.1)\n",
            "  Cloning https://github.com/cvg/LightGlue.git to /tmp/pip-install-p28dap3t/lightglue_dbd9fb54bbc14973877ffd8068312f5d\n",
            "  Running command git clone --filter=blob:none --quiet https://github.com/cvg/LightGlue.git /tmp/pip-install-p28dap3t/lightglue_dbd9fb54bbc14973877ffd8068312f5d\n",
            "  Resolved https://github.com/cvg/LightGlue.git to commit edb2b838efb2ecfe3f88097c5fad9887d95aedad\n",
            "  Installing build dependencies ... \u001b[?25l\u001b[?25hdone\n",
            "  Getting requirements to build wheel ... \u001b[?25l\u001b[?25hdone\n",
            "  Preparing metadata (pyproject.toml) ... \u001b[?25l\u001b[?25hdone\n",
            "Requirement already satisfied: h5py in /usr/local/lib/python3.11/dist-packages (from gluefactory@ git+https://github.com/cvg/glue-factory.git@1f56839db2242929960d70f85bfac6c19ef2821c->wildlife-tools==1.0.1) (3.13.0)\n",
            "Collecting omegaconf (from gluefactory@ git+https://github.com/cvg/glue-factory.git@1f56839db2242929960d70f85bfac6c19ef2821c->wildlife-tools==1.0.1)\n",
            "  Downloading omegaconf-2.3.0-py3-none-any.whl.metadata (3.9 kB)\n",
            "Requirement already satisfied: albumentations in /usr/local/lib/python3.11/dist-packages (from gluefactory@ git+https://github.com/cvg/glue-factory.git@1f56839db2242929960d70f85bfac6c19ef2821c->wildlife-tools==1.0.1) (2.0.6)\n",
            "Requirement already satisfied: seaborn in /usr/local/lib/python3.11/dist-packages (from gluefactory@ git+https://github.com/cvg/glue-factory.git@1f56839db2242929960d70f85bfac6c19ef2821c->wildlife-tools==1.0.1) (0.13.2)\n",
            "Requirement already satisfied: absl-py>=0.4 in /usr/local/lib/python3.11/dist-packages (from tensorboard->wildlife-tools==1.0.1) (1.4.0)\n",
            "Requirement already satisfied: grpcio>=1.48.2 in /usr/local/lib/python3.11/dist-packages (from tensorboard->wildlife-tools==1.0.1) (1.71.0)\n",
            "Requirement already satisfied: markdown>=2.6.8 in /usr/local/lib/python3.11/dist-packages (from tensorboard->wildlife-tools==1.0.1) (3.8)\n",
            "Requirement already satisfied: protobuf!=4.24.0,>=3.19.6 in /usr/local/lib/python3.11/dist-packages (from tensorboard->wildlife-tools==1.0.1) (5.29.4)\n",
            "Requirement already satisfied: setuptools>=41.0.0 in /usr/local/lib/python3.11/dist-packages (from tensorboard->wildlife-tools==1.0.1) (75.2.0)\n",
            "Requirement already satisfied: six>1.9 in /usr/local/lib/python3.11/dist-packages (from tensorboard->wildlife-tools==1.0.1) (1.17.0)\n",
            "Requirement already satisfied: tensorboard-data-server<0.8.0,>=0.7.0 in /usr/local/lib/python3.11/dist-packages (from tensorboard->wildlife-tools==1.0.1) (0.7.2)\n",
            "Requirement already satisfied: werkzeug>=1.0.1 in /usr/local/lib/python3.11/dist-packages (from tensorboard->wildlife-tools==1.0.1) (3.1.3)\n",
            "Requirement already satisfied: contourpy>=1.0.1 in /usr/local/lib/python3.11/dist-packages (from matplotlib>=3.5.1->wildlife-datasets>=0.3.4->wildlife-tools==1.0.1) (1.3.2)\n",
            "Requirement already satisfied: cycler>=0.10 in /usr/local/lib/python3.11/dist-packages (from matplotlib>=3.5.1->wildlife-datasets>=0.3.4->wildlife-tools==1.0.1) (0.12.1)\n",
            "Requirement already satisfied: fonttools>=4.22.0 in /usr/local/lib/python3.11/dist-packages (from matplotlib>=3.5.1->wildlife-datasets>=0.3.4->wildlife-tools==1.0.1) (4.57.0)\n",
            "Requirement already satisfied: kiwisolver>=1.3.1 in /usr/local/lib/python3.11/dist-packages (from matplotlib>=3.5.1->wildlife-datasets>=0.3.4->wildlife-tools==1.0.1) (1.4.8)\n",
            "Requirement already satisfied: pyparsing>=2.3.1 in /usr/local/lib/python3.11/dist-packages (from matplotlib>=3.5.1->wildlife-datasets>=0.3.4->wildlife-tools==1.0.1) (3.2.3)\n",
            "Requirement already satisfied: MarkupSafe>=2.1.1 in /usr/local/lib/python3.11/dist-packages (from werkzeug>=1.0.1->tensorboard->wildlife-tools==1.0.1) (3.0.2)\n",
            "Requirement already satisfied: pydantic>=2.9.2 in /usr/local/lib/python3.11/dist-packages (from albumentations->gluefactory@ git+https://github.com/cvg/glue-factory.git@1f56839db2242929960d70f85bfac6c19ef2821c->wildlife-tools==1.0.1) (2.11.3)\n",
            "Requirement already satisfied: albucore==0.0.24 in /usr/local/lib/python3.11/dist-packages (from albumentations->gluefactory@ git+https://github.com/cvg/glue-factory.git@1f56839db2242929960d70f85bfac6c19ef2821c->wildlife-tools==1.0.1) (0.0.24)\n",
            "Requirement already satisfied: opencv-python-headless>=4.9.0.80 in /usr/local/lib/python3.11/dist-packages (from albumentations->gluefactory@ git+https://github.com/cvg/glue-factory.git@1f56839db2242929960d70f85bfac6c19ef2821c->wildlife-tools==1.0.1) (4.11.0.86)\n",
            "Requirement already satisfied: stringzilla>=3.10.4 in /usr/local/lib/python3.11/dist-packages (from albucore==0.0.24->albumentations->gluefactory@ git+https://github.com/cvg/glue-factory.git@1f56839db2242929960d70f85bfac6c19ef2821c->wildlife-tools==1.0.1) (3.12.5)\n",
            "Requirement already satisfied: simsimd>=5.9.2 in /usr/local/lib/python3.11/dist-packages (from albucore==0.0.24->albumentations->gluefactory@ git+https://github.com/cvg/glue-factory.git@1f56839db2242929960d70f85bfac6c19ef2821c->wildlife-tools==1.0.1) (6.2.1)\n",
            "Requirement already satisfied: pyarrow>=15.0.0 in /usr/local/lib/python3.11/dist-packages (from datasets->wildlife-datasets>=0.3.4->wildlife-tools==1.0.1) (18.1.0)\n",
            "Requirement already satisfied: dill<0.3.9,>=0.3.0 in /usr/local/lib/python3.11/dist-packages (from datasets->wildlife-datasets>=0.3.4->wildlife-tools==1.0.1) (0.3.8)\n",
            "Requirement already satisfied: xxhash in /usr/local/lib/python3.11/dist-packages (from datasets->wildlife-datasets>=0.3.4->wildlife-tools==1.0.1) (3.5.0)\n",
            "Requirement already satisfied: multiprocess<0.70.17 in /usr/local/lib/python3.11/dist-packages (from datasets->wildlife-datasets>=0.3.4->wildlife-tools==1.0.1) (0.70.16)\n",
            "Requirement already satisfied: aiohttp in /usr/local/lib/python3.11/dist-packages (from datasets->wildlife-datasets>=0.3.4->wildlife-tools==1.0.1) (3.11.15)\n",
            "Requirement already satisfied: charset-normalizer<4,>=2 in /usr/local/lib/python3.11/dist-packages (from requests->transformers>=4.30.2->wildlife-tools==1.0.1) (3.4.1)\n",
            "Requirement already satisfied: idna<4,>=2.5 in /usr/local/lib/python3.11/dist-packages (from requests->transformers>=4.30.2->wildlife-tools==1.0.1) (3.10)\n",
            "Requirement already satisfied: urllib3<3,>=1.21.1 in /usr/local/lib/python3.11/dist-packages (from requests->transformers>=4.30.2->wildlife-tools==1.0.1) (2.4.0)\n",
            "Requirement already satisfied: certifi>=2017.4.17 in /usr/local/lib/python3.11/dist-packages (from requests->transformers>=4.30.2->wildlife-tools==1.0.1) (2025.4.26)\n",
            "Requirement already satisfied: beautifulsoup4 in /usr/local/lib/python3.11/dist-packages (from gdown->wildlife-datasets>=0.3.4->wildlife-tools==1.0.1) (4.13.4)\n",
            "Requirement already satisfied: bleach in /usr/local/lib/python3.11/dist-packages (from kaggle->wildlife-datasets>=0.3.4->wildlife-tools==1.0.1) (6.2.0)\n",
            "Requirement already satisfied: python-slugify in /usr/local/lib/python3.11/dist-packages (from kaggle->wildlife-datasets>=0.3.4->wildlife-tools==1.0.1) (8.0.4)\n",
            "Requirement already satisfied: text-unidecode in /usr/local/lib/python3.11/dist-packages (from kaggle->wildlife-datasets>=0.3.4->wildlife-tools==1.0.1) (1.3)\n",
            "Requirement already satisfied: webencodings in /usr/local/lib/python3.11/dist-packages (from kaggle->wildlife-datasets>=0.3.4->wildlife-tools==1.0.1) (0.5.1)\n",
            "Collecting antlr4-python3-runtime==4.9.* (from omegaconf->gluefactory@ git+https://github.com/cvg/glue-factory.git@1f56839db2242929960d70f85bfac6c19ef2821c->wildlife-tools==1.0.1)\n",
            "  Downloading antlr4-python3-runtime-4.9.3.tar.gz (117 kB)\n",
            "\u001b[2K     \u001b[90m━━━━━━━━━━━━━━━━━━━━━━━━━━━━━━━━━━━━━━━\u001b[0m \u001b[32m117.0/117.0 kB\u001b[0m \u001b[31m4.8 MB/s\u001b[0m eta \u001b[36m0:00:00\u001b[0m\n",
            "\u001b[?25h  Preparing metadata (setup.py) ... \u001b[?25l\u001b[?25hdone\n",
            "Requirement already satisfied: aiohappyeyeballs>=2.3.0 in /usr/local/lib/python3.11/dist-packages (from aiohttp->datasets->wildlife-datasets>=0.3.4->wildlife-tools==1.0.1) (2.6.1)\n",
            "Requirement already satisfied: aiosignal>=1.1.2 in /usr/local/lib/python3.11/dist-packages (from aiohttp->datasets->wildlife-datasets>=0.3.4->wildlife-tools==1.0.1) (1.3.2)\n",
            "Requirement already satisfied: attrs>=17.3.0 in /usr/local/lib/python3.11/dist-packages (from aiohttp->datasets->wildlife-datasets>=0.3.4->wildlife-tools==1.0.1) (25.3.0)\n",
            "Requirement already satisfied: frozenlist>=1.1.1 in /usr/local/lib/python3.11/dist-packages (from aiohttp->datasets->wildlife-datasets>=0.3.4->wildlife-tools==1.0.1) (1.6.0)\n",
            "Requirement already satisfied: multidict<7.0,>=4.5 in /usr/local/lib/python3.11/dist-packages (from aiohttp->datasets->wildlife-datasets>=0.3.4->wildlife-tools==1.0.1) (6.4.3)\n",
            "Requirement already satisfied: propcache>=0.2.0 in /usr/local/lib/python3.11/dist-packages (from aiohttp->datasets->wildlife-datasets>=0.3.4->wildlife-tools==1.0.1) (0.3.1)\n",
            "Requirement already satisfied: yarl<2.0,>=1.17.0 in /usr/local/lib/python3.11/dist-packages (from aiohttp->datasets->wildlife-datasets>=0.3.4->wildlife-tools==1.0.1) (1.20.0)\n",
            "Requirement already satisfied: annotated-types>=0.6.0 in /usr/local/lib/python3.11/dist-packages (from pydantic>=2.9.2->albumentations->gluefactory@ git+https://github.com/cvg/glue-factory.git@1f56839db2242929960d70f85bfac6c19ef2821c->wildlife-tools==1.0.1) (0.7.0)\n",
            "Requirement already satisfied: pydantic-core==2.33.1 in /usr/local/lib/python3.11/dist-packages (from pydantic>=2.9.2->albumentations->gluefactory@ git+https://github.com/cvg/glue-factory.git@1f56839db2242929960d70f85bfac6c19ef2821c->wildlife-tools==1.0.1) (2.33.1)\n",
            "Requirement already satisfied: typing-inspection>=0.4.0 in /usr/local/lib/python3.11/dist-packages (from pydantic>=2.9.2->albumentations->gluefactory@ git+https://github.com/cvg/glue-factory.git@1f56839db2242929960d70f85bfac6c19ef2821c->wildlife-tools==1.0.1) (0.4.0)\n",
            "Requirement already satisfied: soupsieve>1.2 in /usr/local/lib/python3.11/dist-packages (from beautifulsoup4->gdown->wildlife-datasets>=0.3.4->wildlife-tools==1.0.1) (2.7)\n",
            "Requirement already satisfied: PySocks!=1.5.7,>=1.5.6 in /usr/local/lib/python3.11/dist-packages (from requests[socks]->gdown->wildlife-datasets>=0.3.4->wildlife-tools==1.0.1) (1.7.1)\n",
            "Downloading kornia-0.8.0-py2.py3-none-any.whl (1.1 MB)\n",
            "\u001b[2K   \u001b[90m━━━━━━━━━━━━━━━━━━━━━━━━━━━━━━━━━━━━━━━━\u001b[0m \u001b[32m1.1/1.1 MB\u001b[0m \u001b[31m27.2 MB/s\u001b[0m eta \u001b[36m0:00:00\u001b[0m\n",
            "\u001b[?25hDownloading nvidia_cublas_cu12-12.4.5.8-py3-none-manylinux2014_x86_64.whl (363.4 MB)\n",
            "\u001b[2K   \u001b[90m━━━━━━━━━━━━━━━━━━━━━━━━━━━━━━━━━━━━━━━━\u001b[0m \u001b[32m363.4/363.4 MB\u001b[0m \u001b[31m2.3 MB/s\u001b[0m eta \u001b[36m0:00:00\u001b[0m\n",
            "\u001b[?25hDownloading nvidia_cuda_cupti_cu12-12.4.127-py3-none-manylinux2014_x86_64.whl (13.8 MB)\n",
            "\u001b[2K   \u001b[90m━━━━━━━━━━━━━━━━━━━━━━━━━━━━━━━━━━━━━━━━\u001b[0m \u001b[32m13.8/13.8 MB\u001b[0m \u001b[31m126.0 MB/s\u001b[0m eta \u001b[36m0:00:00\u001b[0m\n",
            "\u001b[?25hDownloading nvidia_cuda_nvrtc_cu12-12.4.127-py3-none-manylinux2014_x86_64.whl (24.6 MB)\n",
            "\u001b[2K   \u001b[90m━━━━━━━━━━━━━━━━━━━━━━━━━━━━━━━━━━━━━━━━\u001b[0m \u001b[32m24.6/24.6 MB\u001b[0m \u001b[31m96.4 MB/s\u001b[0m eta \u001b[36m0:00:00\u001b[0m\n",
            "\u001b[?25hDownloading nvidia_cuda_runtime_cu12-12.4.127-py3-none-manylinux2014_x86_64.whl (883 kB)\n",
            "\u001b[2K   \u001b[90m━━━━━━━━━━━━━━━━━━━━━━━━━━━━━━━━━━━━━━━━\u001b[0m \u001b[32m883.7/883.7 kB\u001b[0m \u001b[31m68.4 MB/s\u001b[0m eta \u001b[36m0:00:00\u001b[0m\n",
            "\u001b[?25hDownloading nvidia_cudnn_cu12-9.1.0.70-py3-none-manylinux2014_x86_64.whl (664.8 MB)\n",
            "\u001b[2K   \u001b[90m━━━━━━━━━━━━━━━━━━━━━━━━━━━━━━━━━━━━━━━━\u001b[0m \u001b[32m664.8/664.8 MB\u001b[0m \u001b[31m1.4 MB/s\u001b[0m eta \u001b[36m0:00:00\u001b[0m\n",
            "\u001b[?25hDownloading nvidia_cufft_cu12-11.2.1.3-py3-none-manylinux2014_x86_64.whl (211.5 MB)\n",
            "\u001b[2K   \u001b[90m━━━━━━━━━━━━━━━━━━━━━━━━━━━━━━━━━━━━━━━━\u001b[0m \u001b[32m211.5/211.5 MB\u001b[0m \u001b[31m11.3 MB/s\u001b[0m eta \u001b[36m0:00:00\u001b[0m\n",
            "\u001b[?25hDownloading nvidia_curand_cu12-10.3.5.147-py3-none-manylinux2014_x86_64.whl (56.3 MB)\n",
            "\u001b[2K   \u001b[90m━━━━━━━━━━━━━━━━━━━━━━━━━━━━━━━━━━━━━━━━\u001b[0m \u001b[32m56.3/56.3 MB\u001b[0m \u001b[31m38.5 MB/s\u001b[0m eta \u001b[36m0:00:00\u001b[0m\n",
            "\u001b[?25hDownloading nvidia_cusolver_cu12-11.6.1.9-py3-none-manylinux2014_x86_64.whl (127.9 MB)\n",
            "\u001b[2K   \u001b[90m━━━━━━━━━━━━━━━━━━━━━━━━━━━━━━━━━━━━━━━━\u001b[0m \u001b[32m127.9/127.9 MB\u001b[0m \u001b[31m8.8 MB/s\u001b[0m eta \u001b[36m0:00:00\u001b[0m\n",
            "\u001b[?25hDownloading nvidia_cusparse_cu12-12.3.1.170-py3-none-manylinux2014_x86_64.whl (207.5 MB)\n",
            "\u001b[2K   \u001b[90m━━━━━━━━━━━━━━━━━━━━━━━━━━━━━━━━━━━━━━━━\u001b[0m \u001b[32m207.5/207.5 MB\u001b[0m \u001b[31m10.5 MB/s\u001b[0m eta \u001b[36m0:00:00\u001b[0m\n",
            "\u001b[?25hDownloading nvidia_nvjitlink_cu12-12.4.127-py3-none-manylinux2014_x86_64.whl (21.1 MB)\n",
            "\u001b[2K   \u001b[90m━━━━━━━━━━━━━━━━━━━━━━━━━━━━━━━━━━━━━━━━\u001b[0m \u001b[32m21.1/21.1 MB\u001b[0m \u001b[31m107.1 MB/s\u001b[0m eta \u001b[36m0:00:00\u001b[0m\n",
            "\u001b[?25hDownloading pytorch_metric_learning-2.8.1-py3-none-any.whl (125 kB)\n",
            "\u001b[2K   \u001b[90m━━━━━━━━━━━━━━━━━━━━━━━━━━━━━━━━━━━━━━━━\u001b[0m \u001b[32m125.9/125.9 kB\u001b[0m \u001b[31m12.9 MB/s\u001b[0m eta \u001b[36m0:00:00\u001b[0m\n",
            "\u001b[?25hDownloading kornia_rs-0.1.8-cp311-cp311-manylinux_2_17_x86_64.manylinux2014_x86_64.whl (2.1 MB)\n",
            "\u001b[2K   \u001b[90m━━━━━━━━━━━━━━━━━━━━━━━━━━━━━━━━━━━━━━━━\u001b[0m \u001b[32m2.1/2.1 MB\u001b[0m \u001b[31m95.3 MB/s\u001b[0m eta \u001b[36m0:00:00\u001b[0m\n",
            "\u001b[?25hDownloading omegaconf-2.3.0-py3-none-any.whl (79 kB)\n",
            "\u001b[2K   \u001b[90m━━━━━━━━━━━━━━━━━━━━━━━━━━━━━━━━━━━━━━━━\u001b[0m \u001b[32m79.5/79.5 kB\u001b[0m \u001b[31m8.2 MB/s\u001b[0m eta \u001b[36m0:00:00\u001b[0m\n",
            "\u001b[?25hBuilding wheels for collected packages: wildlife-tools, gluefactory, lightglue, antlr4-python3-runtime\n",
            "  Building wheel for wildlife-tools (pyproject.toml) ... \u001b[?25l\u001b[?25hdone\n",
            "  Created wheel for wildlife-tools: filename=wildlife_tools-1.0.1-py3-none-any.whl size=33838 sha256=b37dd071b0ace0300f48d803e19ba00270874068f8a2daf3960627f08431ee25\n",
            "  Stored in directory: /tmp/pip-ephem-wheel-cache-4ro6mk4k/wheels/16/bf/e0/708652d1c6e8e8f74d027d56342690f370c68e6febc99e147c\n",
            "  Building wheel for gluefactory (pyproject.toml) ... \u001b[?25l\u001b[?25hdone\n",
            "  Created wheel for gluefactory: filename=gluefactory-0.0-py3-none-any.whl size=213006 sha256=7c20aa7f2dae8de57a8464fe2d0a1f3b33e5804c2a989be24907a172e341511e\n",
            "  Stored in directory: /root/.cache/pip/wheels/66/e5/65/9ef7f587d744224ea98adb58aeb958952f54dcbc95378afb23\n",
            "  Building wheel for lightglue (pyproject.toml) ... \u001b[?25l\u001b[?25hdone\n",
            "  Created wheel for lightglue: filename=lightglue-0.0-py3-none-any.whl size=39542 sha256=11cf359f77ce770be5e01c10b496c243ca436e403d8f6cfdb936520472b54d33\n",
            "  Stored in directory: /tmp/pip-ephem-wheel-cache-4ro6mk4k/wheels/5f/e0/67/3e514ef8c284be99a185335241d29522d5fd476f4a69f01f07\n",
            "  Building wheel for antlr4-python3-runtime (setup.py) ... \u001b[?25l\u001b[?25hdone\n",
            "  Created wheel for antlr4-python3-runtime: filename=antlr4_python3_runtime-4.9.3-py3-none-any.whl size=144554 sha256=7b4967cb83b74a64905f5be61096f8b1f2a2b32080fb33bcdcd0abf871935c27\n",
            "  Stored in directory: /root/.cache/pip/wheels/1a/97/32/461f837398029ad76911109f07047fde1d7b661a147c7c56d1\n",
            "Successfully built wildlife-tools gluefactory lightglue antlr4-python3-runtime\n",
            "Installing collected packages: antlr4-python3-runtime, omegaconf, nvidia-nvjitlink-cu12, nvidia-curand-cu12, nvidia-cufft-cu12, nvidia-cuda-runtime-cu12, nvidia-cuda-nvrtc-cu12, nvidia-cuda-cupti-cu12, nvidia-cublas-cu12, kornia_rs, nvidia-cusparse-cu12, nvidia-cudnn-cu12, nvidia-cusolver-cu12, pytorch_metric_learning, kornia, lightglue, gluefactory, wildlife-tools\n",
            "  Attempting uninstall: nvidia-nvjitlink-cu12\n",
            "    Found existing installation: nvidia-nvjitlink-cu12 12.5.82\n",
            "    Uninstalling nvidia-nvjitlink-cu12-12.5.82:\n",
            "      Successfully uninstalled nvidia-nvjitlink-cu12-12.5.82\n",
            "  Attempting uninstall: nvidia-curand-cu12\n",
            "    Found existing installation: nvidia-curand-cu12 10.3.6.82\n",
            "    Uninstalling nvidia-curand-cu12-10.3.6.82:\n",
            "      Successfully uninstalled nvidia-curand-cu12-10.3.6.82\n",
            "  Attempting uninstall: nvidia-cufft-cu12\n",
            "    Found existing installation: nvidia-cufft-cu12 11.2.3.61\n",
            "    Uninstalling nvidia-cufft-cu12-11.2.3.61:\n",
            "      Successfully uninstalled nvidia-cufft-cu12-11.2.3.61\n",
            "  Attempting uninstall: nvidia-cuda-runtime-cu12\n",
            "    Found existing installation: nvidia-cuda-runtime-cu12 12.5.82\n",
            "    Uninstalling nvidia-cuda-runtime-cu12-12.5.82:\n",
            "      Successfully uninstalled nvidia-cuda-runtime-cu12-12.5.82\n",
            "  Attempting uninstall: nvidia-cuda-nvrtc-cu12\n",
            "    Found existing installation: nvidia-cuda-nvrtc-cu12 12.5.82\n",
            "    Uninstalling nvidia-cuda-nvrtc-cu12-12.5.82:\n",
            "      Successfully uninstalled nvidia-cuda-nvrtc-cu12-12.5.82\n",
            "  Attempting uninstall: nvidia-cuda-cupti-cu12\n",
            "    Found existing installation: nvidia-cuda-cupti-cu12 12.5.82\n",
            "    Uninstalling nvidia-cuda-cupti-cu12-12.5.82:\n",
            "      Successfully uninstalled nvidia-cuda-cupti-cu12-12.5.82\n",
            "  Attempting uninstall: nvidia-cublas-cu12\n",
            "    Found existing installation: nvidia-cublas-cu12 12.5.3.2\n",
            "    Uninstalling nvidia-cublas-cu12-12.5.3.2:\n",
            "      Successfully uninstalled nvidia-cublas-cu12-12.5.3.2\n",
            "  Attempting uninstall: nvidia-cusparse-cu12\n",
            "    Found existing installation: nvidia-cusparse-cu12 12.5.1.3\n",
            "    Uninstalling nvidia-cusparse-cu12-12.5.1.3:\n",
            "      Successfully uninstalled nvidia-cusparse-cu12-12.5.1.3\n",
            "  Attempting uninstall: nvidia-cudnn-cu12\n",
            "    Found existing installation: nvidia-cudnn-cu12 9.3.0.75\n",
            "    Uninstalling nvidia-cudnn-cu12-9.3.0.75:\n",
            "      Successfully uninstalled nvidia-cudnn-cu12-9.3.0.75\n",
            "  Attempting uninstall: nvidia-cusolver-cu12\n",
            "    Found existing installation: nvidia-cusolver-cu12 11.6.3.83\n",
            "    Uninstalling nvidia-cusolver-cu12-11.6.3.83:\n",
            "      Successfully uninstalled nvidia-cusolver-cu12-11.6.3.83\n",
            "Successfully installed antlr4-python3-runtime-4.9.3 gluefactory-0.0 kornia-0.8.0 kornia_rs-0.1.8 lightglue-0.0 nvidia-cublas-cu12-12.4.5.8 nvidia-cuda-cupti-cu12-12.4.127 nvidia-cuda-nvrtc-cu12-12.4.127 nvidia-cuda-runtime-cu12-12.4.127 nvidia-cudnn-cu12-9.1.0.70 nvidia-cufft-cu12-11.2.1.3 nvidia-curand-cu12-10.3.5.147 nvidia-cusolver-cu12-11.6.1.9 nvidia-cusparse-cu12-12.3.1.170 nvidia-nvjitlink-cu12-12.4.127 omegaconf-2.3.0 pytorch_metric_learning-2.8.1 wildlife-tools-1.0.1\n"
          ]
        },
        {
          "output_type": "display_data",
          "data": {
            "application/vnd.colab-display-data+json": {
              "pip_warning": {
                "packages": [
                  "pydevd_plugins"
                ]
              },
              "id": "e221a2c6e47e4589bba98866ab8e3cd2"
            }
          },
          "metadata": {}
        }
      ],
      "execution_count": 3
    },
    {
      "cell_type": "code",
      "source": [
        "import numpy as np\n",
        "from typing import List, Union\n",
        "\n",
        "def baks_compute(\n",
        "        y_true: Union[List, np.ndarray],\n",
        "        y_pred: Union[List, np.ndarray],\n",
        "        identity_test_only: Union[List, np.ndarray]\n",
        "    ) -> float:\n",
        "    \"\"\"Computes BAKS (balanced accuracy on known samples).\n",
        "\n",
        "    Focuses only on samples with known identities (not in identity_test_only).\n",
        "\n",
        "    Args:\n",
        "        y_true: True labels\n",
        "        y_pred: Predicted labels\n",
        "        identity_test_only: Labels of unknown identities (only in test set)\n",
        "\n",
        "    Returns:\n",
        "        Balanced accuracy score for known samples\n",
        "    \"\"\"\n",
        "    # Convert inputs to numpy arrays with object dtype to handle mixed types\n",
        "    y_true = np.array(y_true, dtype=object)\n",
        "    y_pred = np.array(y_pred, dtype=object)\n",
        "    identity_test_only = np.array(identity_test_only, dtype=object)\n",
        "\n",
        "    # Filter out unknown samples\n",
        "    mask = ~np.isin(y_true, identity_test_only)\n",
        "    y_true_known = y_true[mask]\n",
        "    y_pred_known = y_pred[mask]\n",
        "\n",
        "    if len(y_true_known) == 0:\n",
        "        return 0.0\n",
        "\n",
        "    # Get unique classes in the filtered true labels\n",
        "    unique_classes = np.unique(y_true_known)\n",
        "    n_classes = len(unique_classes)\n",
        "\n",
        "    # Compute per-class accuracy and average\n",
        "    class_accuracies = []\n",
        "    for cls in unique_classes:\n",
        "        cls_mask = (y_true_known == cls)\n",
        "        if np.sum(cls_mask) > 0:\n",
        "            cls_acc = np.mean(y_pred_known[cls_mask] == cls)\n",
        "            class_accuracies.append(cls_acc)\n",
        "\n",
        "    # Return the balanced accuracy (mean of per-class accuracies)\n",
        "    return np.mean(class_accuracies) if class_accuracies else 0.0\n",
        "\n",
        "def baus_compute(\n",
        "        y_true: Union[List, np.ndarray],\n",
        "        y_pred: Union[List, np.ndarray],\n",
        "        identity_test_only: Union[List, np.ndarray],\n",
        "        new_class: Union[int, str]\n",
        "    ) -> float:\n",
        "    \"\"\"Computes BAUS (balanced accuracy on unknown samples).\n",
        "\n",
        "    Focuses only on samples with unknown identities (in identity_test_only).\n",
        "\n",
        "    Args:\n",
        "        y_true: True labels\n",
        "        y_pred: Predicted labels\n",
        "        identity_test_only: Labels of unknown identities (only in test set)\n",
        "        new_class: Label used for identifying unknown samples\n",
        "\n",
        "    Returns:\n",
        "        Balanced accuracy score for unknown samples\n",
        "    \"\"\"\n",
        "    # Convert inputs to numpy arrays with object dtype to handle mixed types\n",
        "    y_true = np.array(y_true, dtype=object)\n",
        "    y_pred = np.array(y_pred, dtype=object)\n",
        "    identity_test_only = np.array(identity_test_only, dtype=object)\n",
        "\n",
        "    # Filter to include only unknown samples\n",
        "    mask = np.isin(y_true, identity_test_only)\n",
        "    y_true_unknown = y_true[mask]\n",
        "    y_pred_unknown = y_pred[mask]\n",
        "\n",
        "    if len(y_true_unknown) == 0:\n",
        "        return 0.0\n",
        "\n",
        "    # Get unique unknown classes\n",
        "    unique_unknown_classes = np.unique(y_true_unknown)\n",
        "\n",
        "    # For each unknown class, check if they were correctly predicted as new_class\n",
        "    class_accuracies = []\n",
        "    for cls in unique_unknown_classes:\n",
        "        cls_mask = (y_true_unknown == cls)\n",
        "        if np.sum(cls_mask) > 0:\n",
        "            # For unknown samples, correct prediction is new_class\n",
        "            cls_acc = np.mean(y_pred_unknown[cls_mask] == new_class)\n",
        "            class_accuracies.append(cls_acc)\n",
        "\n",
        "    # Return the balanced accuracy (mean of per-class accuracies)\n",
        "    return np.mean(class_accuracies) if class_accuracies else 0.0\n",
        "\n",
        "\n",
        "def compute_geometric_mean(baks, baus):\n",
        "    return np.sqrt(baks * baus)"
      ],
      "metadata": {
        "trusted": true,
        "execution": {
          "iopub.status.busy": "2025-05-01T13:12:41.397507Z",
          "iopub.execute_input": "2025-05-01T13:12:41.397827Z",
          "iopub.status.idle": "2025-05-01T13:12:41.407816Z",
          "shell.execute_reply.started": "2025-05-01T13:12:41.397788Z",
          "shell.execute_reply": "2025-05-01T13:12:41.407034Z"
        },
        "id": "MuppBjRjDCwk"
      },
      "outputs": [],
      "execution_count": 3
    },
    {
      "cell_type": "markdown",
      "source": [
        "## Dependencies import\n",
        "We load all the required packages and then define the function `create_sample_submission`, which converts provided predictions and a submission file for the competition."
      ],
      "metadata": {
        "id": "Aez-r40ODCwl"
      }
    },
    {
      "cell_type": "code",
      "source": [
        "import os\n",
        "import numpy as np\n",
        "import pandas as pd\n",
        "import timm\n",
        "import torchvision.transforms as T\n",
        "from wildlife_datasets.datasets import AnimalCLEF2025\n",
        "from wildlife_tools.features import DeepFeatures\n",
        "from wildlife_tools.similarity import CosineSimilarity\n",
        "from wildlife_tools.similarity.wildfusion import SimilarityPipeline, WildFusion\n",
        "from wildlife_tools.similarity.pairwise.lightglue import MatchLightGlue\n",
        "from wildlife_tools.similarity.pairwise.loftr import MatchLOFTR\n",
        "from wildlife_tools.features.local import AlikedExtractor,SuperPointExtractor,SiftExtractor,DiskExtractor\n",
        "from wildlife_tools.similarity.calibration import IsotonicCalibration,LogisticCalibration\n",
        "import sys\n",
        "from wildlife_tools.similarity.pairwise.collectors import CollectCounts, CollectCountsRansac, CollectAll\n",
        "sys.path.append('/kaggle/input/balanced-accuracy')  # 添加路径\n",
        "# from metric import score,BAKS,BAUS\n",
        "\n",
        "def create_sample_submission(dataset_query, predictions, file_name='submission.csv'):\n",
        "    df = pd.DataFrame({\n",
        "        'image_id': dataset_query.metadata['image_id'],\n",
        "        'identity': predictions\n",
        "    })\n",
        "    df.to_csv(file_name, index=False)"
      ],
      "metadata": {
        "execution": {
          "iopub.status.busy": "2025-05-01T13:12:41.409473Z",
          "iopub.execute_input": "2025-05-01T13:12:41.409671Z",
          "iopub.status.idle": "2025-05-01T13:13:11.675967Z",
          "shell.execute_reply.started": "2025-05-01T13:12:41.409654Z",
          "shell.execute_reply": "2025-05-01T13:13:11.674957Z"
        },
        "trusted": true,
        "id": "E-6Av9yyDCwl"
      },
      "outputs": [],
      "execution_count": 66
    },
    {
      "cell_type": "markdown",
      "source": [
        "## Inference WildFusion\n",
        "\n",
        "Instead of training a classifier, we use out of the shelf pretrained models - [MegaDescriptor](https://huggingface.co/BVRA/MegaDescriptor-L-384) and [ALIKED](https://arxiv.org/pdf/2304.03608) - Keypoint and Descriptor Extraction Network. Both MegaDescriptor and ALIKED are used to extract features from all images.\n",
        "\n",
        "**Note:** _It is highly recommended to use the GPU acceleration._"
      ],
      "metadata": {
        "id": "gHaRHTMEDCwl"
      }
    },
    {
      "cell_type": "markdown",
      "source": [
        "We need to specify the `root`, where the data are stored and then two image transformations.\n",
        "1. The first transform only resizes the images and is used for visualization.\n",
        "2. The second transform also converts it to torch tensor and is used for operations on neural networks."
      ],
      "metadata": {
        "id": "v1jGt3kCDCwm"
      }
    },
    {
      "cell_type": "code",
      "source": [
        "\n",
        "root = '/kaggle/input/animal-clef-2025'\n",
        "root=animal_clef_2025_path\n",
        "transform_display = T.Compose([\n",
        "    T.Resize([224, 224]),\n",
        "])\n",
        "transform = T.Compose([\n",
        "    *transform_display.transforms,\n",
        "    T.ToTensor(),\n",
        "    T.Normalize(mean=(0.485, 0.456, 0.406), std=(0.229, 0.224, 0.225))\n",
        "])\n",
        "\n",
        "transforms_aliked = T.Compose([\n",
        "    T.Resize([512, 512]),\n",
        "    T.ToTensor()\n",
        "])\n",
        "transforms_sift = T.Compose([\n",
        "    T.Resize([512, 512]),\n",
        "    T.ToTensor()\n",
        "])"
      ],
      "metadata": {
        "execution": {
          "iopub.status.busy": "2025-05-01T13:13:11.677631Z",
          "iopub.execute_input": "2025-05-01T13:13:11.678204Z",
          "iopub.status.idle": "2025-05-01T13:13:11.683567Z",
          "shell.execute_reply.started": "2025-05-01T13:13:11.678179Z",
          "shell.execute_reply": "2025-05-01T13:13:11.68274Z"
        },
        "trusted": true,
        "id": "BldGPxRRDCwm"
      },
      "outputs": [],
      "execution_count": 43
    },
    {
      "cell_type": "code",
      "source": [
        "# Loading the dataset\n",
        "dataset = AnimalCLEF2025(root, load_label=True)\n",
        "dataset_database = dataset.get_subset(dataset.metadata['split'] == 'database')\n",
        "dataset_query = dataset.get_subset(dataset.metadata['split'] == 'query')\n",
        "dataset_calibration = AnimalCLEF2025(root, df=dataset_database.metadata[:100], load_label=True)\n",
        "collector = CollectCountsRansac(ransacReprojThreshold=1.0, maxIters=100)\n",
        "n_query = len(dataset_query)\n"
      ],
      "metadata": {
        "execution": {
          "iopub.status.busy": "2025-05-01T13:13:11.684436Z",
          "iopub.execute_input": "2025-05-01T13:13:11.684732Z",
          "iopub.status.idle": "2025-05-01T13:13:32.696866Z",
          "shell.execute_reply.started": "2025-05-01T13:13:11.6847Z",
          "shell.execute_reply": "2025-05-01T13:13:32.69614Z"
        },
        "trusted": true,
        "id": "B4DeAa0tDCwm"
      },
      "outputs": [],
      "execution_count": 67
    },
    {
      "cell_type": "code",
      "source": [
        "n_query"
      ],
      "metadata": {
        "trusted": true,
        "colab": {
          "base_uri": "https://localhost:8080/"
        },
        "id": "UsJUQrMxDCwm",
        "outputId": "5583a99d-b3df-4f76-af20-ff275ca60a17"
      },
      "outputs": [
        {
          "output_type": "execute_result",
          "data": {
            "text/plain": [
              "2135"
            ]
          },
          "metadata": {},
          "execution_count": 7
        }
      ],
      "execution_count": 7
    },
    {
      "cell_type": "code",
      "source": [
        "# Loading the models\n",
        "name = \"hf-hub:BVRA/MegaDescriptor-B-224\"\n",
        "model = timm.create_model(name, num_classes=0, pretrained=True)\n",
        "device = 'cuda'\n",
        "\n",
        "pipelines = [\n",
        "\n",
        "    SimilarityPipeline(\n",
        "        matcher = MatchLightGlue(features='superpoint'),\n",
        "        extractor = SuperPointExtractor(),\n",
        "        transform = T.Compose([\n",
        "            T.Resize([256, 256]),\n",
        "            T.ToTensor()\n",
        "        ]),\n",
        "        calibration = IsotonicCalibration()\n",
        "    ),\n",
        "\n",
        "    SimilarityPipeline(\n",
        "        matcher = MatchLightGlue(features='aliked'),\n",
        "        extractor = AlikedExtractor(),\n",
        "        transform = T.Compose([\n",
        "            T.Resize([256, 256]),\n",
        "            T.ToTensor()\n",
        "        ]),\n",
        "        calibration = IsotonicCalibration()\n",
        "    ),\n",
        "\n",
        "    SimilarityPipeline(\n",
        "        matcher = MatchLightGlue(features='disk'),\n",
        "        extractor = DiskExtractor(),\n",
        "        transform = T.Compose([\n",
        "            T.Resize([256, 256]),\n",
        "            T.ToTensor()\n",
        "        ]),\n",
        "        calibration = IsotonicCalibration()\n",
        "    ),\n",
        "\n",
        "    SimilarityPipeline(\n",
        "        matcher = MatchLightGlue(features='sift'),\n",
        "        extractor = SiftExtractor(),\n",
        "        transform = T.Compose([\n",
        "            T.Resize([256, 256]),\n",
        "            T.ToTensor()\n",
        "        ]),\n",
        "        calibration = IsotonicCalibration()\n",
        "    ),\n",
        "\n",
        "    SimilarityPipeline(\n",
        "        matcher = MatchLOFTR(pretrained='indoor'),\n",
        "        extractor = None,\n",
        "        transform = T.Compose([\n",
        "            T.Resize([256, 256]),\n",
        "            T.Grayscale(),\n",
        "            T.ToTensor(),\n",
        "        ]),\n",
        "        calibration = IsotonicCalibration()\n",
        "    ),\n",
        "\n",
        "    # SimilarityPipeline(\n",
        "    #     matcher = CosineSimilarity(),\n",
        "    #     extractor = DeepFeatures(\n",
        "    #         model = timm.create_model('hf-hub:BVRA/wildlife-mega-L-384', num_classes=0, pretrained=True)\n",
        "    #     ),\n",
        "    #     transform = T.Compose([\n",
        "    #         T.Resize(size=(384, 384)),\n",
        "    #         T.ToTensor(),\n",
        "    #         T.Normalize(mean=(0.485, 0.456, 0.406), std=(0.229, 0.224, 0.225)),\n",
        "    #     ]),\n",
        "    #     calibration = IsotonicCalibration()\n",
        "    # ),\n",
        "]\n",
        "\n",
        "matcher_mega = SimilarityPipeline(\n",
        "    matcher = CosineSimilarity(),\n",
        "    extractor = DeepFeatures(model=model, device=device, batch_size=16),\n",
        "    transform = transform,\n",
        "    calibration =IsotonicCalibration()\n",
        ")"
      ],
      "metadata": {
        "_kg_hide-input": false,
        "_kg_hide-output": true,
        "execution": {
          "iopub.status.busy": "2025-05-01T13:28:25.316758Z",
          "iopub.execute_input": "2025-05-01T13:28:25.317168Z",
          "iopub.status.idle": "2025-05-01T13:28:35.395198Z",
          "shell.execute_reply.started": "2025-05-01T13:28:25.317135Z",
          "shell.execute_reply": "2025-05-01T13:28:35.394352Z"
        },
        "trusted": true,
        "colab": {
          "base_uri": "https://localhost:8080/"
        },
        "id": "ReiuUM3tDCwm",
        "outputId": "9e6c4b6a-066a-4792-f6f2-3488b477c748"
      },
      "outputs": [
        {
          "output_type": "stream",
          "name": "stderr",
          "text": [
            "Downloading: \"http://cmp.felk.cvut.cz/~mishkdmy/models/loftr_indoor.ckpt\" to /root/.cache/torch/hub/checkpoints/loftr_indoor.ckpt\n",
            "100%|██████████| 44.2M/44.2M [00:02<00:00, 20.4MB/s]\n"
          ]
        }
      ],
      "execution_count": 70
    },
    {
      "cell_type": "code",
      "source": [
        "# Calibrating the WildFusion\n",
        "import torch, gc\n",
        "gc.collect()\n",
        "torch.cuda.empty_cache()\n",
        "wildfusion = WildFusion(calibrated_pipelines = pipelines, priority_pipeline = matcher_mega)\n",
        "wildfusion.fit_calibration(dataset_calibration, dataset_calibration)"
      ],
      "metadata": {
        "trusted": true,
        "execution": {
          "iopub.status.busy": "2025-05-01T13:28:59.70391Z",
          "iopub.execute_input": "2025-05-01T13:28:59.704264Z",
          "iopub.status.idle": "2025-05-01T13:31:22.45556Z",
          "shell.execute_reply.started": "2025-05-01T13:28:59.704239Z",
          "shell.execute_reply": "2025-05-01T13:31:22.454123Z"
        },
        "colab": {
          "base_uri": "https://localhost:8080/"
        },
        "id": "UKCuks8IDCwn",
        "outputId": "172d23a5-8dde-4e63-b5c8-298f40df1fe5"
      },
      "outputs": [
        {
          "output_type": "stream",
          "name": "stderr",
          "text": [
            "100%|█████████████████████████████████████████████████████████████| 100/100 [00:02<00:00, 34.24it/s]\n",
            "100%|█████████████████████████████████████████████████████████████| 100/100 [00:02<00:00, 34.27it/s]\n",
            "100%|███████████████████████████████████████████████████████████████| 79/79 [00:16<00:00,  4.75it/s]\n",
            "100%|█████████████████████████████████████████████████████████████| 100/100 [00:02<00:00, 34.04it/s]\n",
            "100%|█████████████████████████████████████████████████████████████| 100/100 [00:02<00:00, 34.60it/s]\n",
            "100%|███████████████████████████████████████████████████████████████| 79/79 [00:15<00:00,  5.06it/s]\n",
            "100%|█████████████████████████████████████████████████████████████| 100/100 [00:02<00:00, 34.10it/s]\n",
            "100%|█████████████████████████████████████████████████████████████| 100/100 [00:02<00:00, 34.75it/s]\n",
            "100%|███████████████████████████████████████████████████████████████| 79/79 [00:15<00:00,  5.14it/s]\n",
            "100%|█████████████████████████████████████████████████████████████| 100/100 [00:03<00:00, 26.85it/s]\n",
            "100%|█████████████████████████████████████████████████████████████| 100/100 [00:03<00:00, 27.26it/s]\n",
            "100%|███████████████████████████████████████████████████████████████| 79/79 [00:15<00:00,  5.13it/s]\n",
            "100%|███████████████████████████████████████████████████████████████| 79/79 [06:04<00:00,  4.61s/it]\n",
            "100%|█████████████████████████████████████████████████████████████████| 7/7 [00:02<00:00,  2.42it/s]\n",
            "100%|█████████████████████████████████████████████████████████████████| 7/7 [00:02<00:00,  2.42it/s]\n"
          ]
        }
      ],
      "execution_count": 71
    },
    {
      "cell_type": "code",
      "source": [
        "# Compute WildFusion similarity\n",
        "similarity = wildfusion(dataset_query, dataset_database, B=25)"
      ],
      "metadata": {
        "trusted": true,
        "execution": {
          "iopub.status.busy": "2025-05-01T13:19:07.452081Z",
          "iopub.status.idle": "2025-05-01T13:19:07.452366Z",
          "shell.execute_reply": "2025-05-01T13:19:07.452247Z"
        },
        "colab": {
          "base_uri": "https://localhost:8080/"
        },
        "id": "K640Ad1JDCwn",
        "outputId": "a1f4dc39-5658-447a-f7ee-8578a9c592b5"
      },
      "outputs": [
        {
          "output_type": "stream",
          "name": "stderr",
          "text": [
            "100%|█████████████████████████████████████████████████████████████| 134/134 [00:51<00:00,  2.62it/s]\n",
            "100%|█████████████████████████████████████████████████████████████| 818/818 [02:10<00:00,  6.27it/s]\n",
            "100%|███████████████████████████████████████████████████████████| 2135/2135 [00:53<00:00, 40.21it/s]\n",
            "100%|█████████████████████████████████████████████████████████| 13074/13074 [02:28<00:00, 87.85it/s]\n",
            "100%|█████████████████████████████████████████████████████████████| 417/417 [01:28<00:00,  4.69it/s]\n",
            "100%|███████████████████████████████████████████████████████████| 2135/2135 [00:54<00:00, 39.40it/s]\n",
            "100%|█████████████████████████████████████████████████████████| 13074/13074 [03:00<00:00, 72.50it/s]\n",
            "100%|█████████████████████████████████████████████████████████████| 417/417 [01:23<00:00,  4.99it/s]\n",
            "100%|███████████████████████████████████████████████████████████| 2135/2135 [00:53<00:00, 39.95it/s]\n",
            "100%|█████████████████████████████████████████████████████████| 13074/13074 [02:34<00:00, 84.42it/s]\n",
            "100%|█████████████████████████████████████████████████████████████| 417/417 [01:22<00:00,  5.08it/s]\n",
            "100%|███████████████████████████████████████████████████████████| 2135/2135 [01:05<00:00, 32.45it/s]\n",
            "100%|█████████████████████████████████████████████████████████| 13074/13074 [04:45<00:00, 45.86it/s]\n",
            "100%|█████████████████████████████████████████████████████████████| 417/417 [01:22<00:00,  5.07it/s]\n",
            "100%|█████████████████████████████████████████████████████████████| 417/417 [41:00<00:00,  5.90s/it]\n"
          ]
        }
      ],
      "execution_count": 72
    },
    {
      "cell_type": "code",
      "source": [
        "pred_idx = similarity.argsort(axis=1)[:,-1]\n",
        "pred_scores = similarity[range(n_query), pred_idx]\n",
        "similarity[range(n_query), pred_idx]"
      ],
      "metadata": {
        "execution": {
          "iopub.status.busy": "2025-05-01T13:19:07.453022Z",
          "iopub.status.idle": "2025-05-01T13:19:07.453524Z",
          "shell.execute_reply": "2025-05-01T13:19:07.453342Z"
        },
        "trusted": true,
        "colab": {
          "base_uri": "https://localhost:8080/"
        },
        "id": "kW00er6FDCwn",
        "outputId": "84eb0d8e-0c94-4629-9d1b-9756c792d36a"
      },
      "outputs": [
        {
          "output_type": "execute_result",
          "data": {
            "text/plain": [
              "array([0.05908, 0.07043, 0.6357 , ..., 0.4414 , 0.07886, 0.813  ],\n",
              "      dtype=float16)"
            ]
          },
          "metadata": {},
          "execution_count": 79
        }
      ],
      "execution_count": 79
    },
    {
      "cell_type": "code",
      "source": [],
      "metadata": {
        "id": "E3pypcN6h3Qu",
        "outputId": "d8fa5178-3512-46a4-eb7b-203c1cb1e628",
        "colab": {
          "base_uri": "https://localhost:8080/"
        }
      },
      "execution_count": 62,
      "outputs": [
        {
          "output_type": "execute_result",
          "data": {
            "text/plain": [
              "np.float16(0.0581)"
            ]
          },
          "metadata": {},
          "execution_count": 62
        }
      ]
    },
    {
      "cell_type": "code",
      "source": [
        "new_individual = 'new_individual'\n",
        "threshold = 0.6\n",
        "labels = dataset_database.labels_string\n",
        "predictions = labels[pred_idx]\n",
        "predictions[pred_scores < threshold] = new_individual\n",
        "create_sample_submission(dataset_query, predictions, file_name='/content/submission.csv')"
      ],
      "metadata": {
        "execution": {
          "iopub.status.busy": "2025-05-01T13:19:07.454424Z",
          "iopub.status.idle": "2025-05-01T13:19:07.454709Z",
          "shell.execute_reply": "2025-05-01T13:19:07.454601Z"
        },
        "trusted": true,
        "id": "TdzuzTL8DCwn"
      },
      "outputs": [],
      "execution_count": 80
    },
    {
      "cell_type": "code",
      "source": [
        "df = dataset.df\n",
        "df = df[df['split'] == 'query']"
      ],
      "metadata": {
        "trusted": true,
        "execution": {
          "iopub.status.busy": "2025-05-01T13:19:07.455396Z",
          "iopub.status.idle": "2025-05-01T13:19:07.455787Z",
          "shell.execute_reply": "2025-05-01T13:19:07.455613Z"
        },
        "id": "Bg8sBEICDCwn"
      },
      "outputs": [],
      "execution_count": null
    },
    {
      "cell_type": "code",
      "source": [
        "unseen_ids = []\n",
        "all_ids = df['identity'].unique()\n",
        "\n",
        "for i in all_ids:\n",
        "    if i in dataset_query.metadata['identity'].tolist():\n",
        "        if i not in dataset_database.metadata['identity'].tolist():\n",
        "            unseen_ids.append(i)\n",
        "all_ids"
      ],
      "metadata": {
        "trusted": true,
        "execution": {
          "iopub.status.busy": "2025-05-01T13:19:07.456569Z",
          "iopub.status.idle": "2025-05-01T13:19:07.456975Z",
          "shell.execute_reply": "2025-05-01T13:19:07.456782Z"
        },
        "id": "MoW-_YD4DCwn"
      },
      "outputs": [],
      "execution_count": null
    },
    {
      "cell_type": "code",
      "source": [
        "# val_true_labels = dataset_query.labels_string\n",
        "# baks_score = baks_compute(val_true_labels, predictions, unseen_ids)\n",
        "# baus_score = baus_compute(val_true_labels, predictions, unseen_ids, \"new_individual\")\n",
        "# geo_mean = compute_geometric_mean(baks_score, baus_score)\n",
        "\n",
        "# print(f\"Balanced Accuracy Known Samples (BAKS): {baks_score:.4f}\")\n",
        "# print(f\"Balanced Accuracy Unknown Samples (BAUS): {baus_score:.4f}\")\n",
        "# print(f\"Geometric Mean (BAKS & BAUS): {geo_mean:.4f}\")"
      ],
      "metadata": {
        "trusted": true,
        "execution": {
          "iopub.status.busy": "2025-05-01T13:19:07.458014Z",
          "iopub.status.idle": "2025-05-01T13:19:07.458386Z",
          "shell.execute_reply": "2025-05-01T13:19:07.458221Z"
        },
        "id": "pOfbr43oDCwn"
      },
      "outputs": [],
      "execution_count": null
    },
    {
      "cell_type": "code",
      "source": [],
      "metadata": {
        "trusted": true,
        "id": "04Vq5fvDDCwn"
      },
      "outputs": [],
      "execution_count": null
    }
  ]
}
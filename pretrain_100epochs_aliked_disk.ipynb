{
  "metadata": {
    "kernelspec": {
      "display_name": "Python 3",
      "name": "python3"
    },
    "language_info": {
      "codemirror_mode": {
        "name": "ipython",
        "version": 3
      },
      "file_extension": ".py",
      "mimetype": "text/x-python",
      "name": "python",
      "nbconvert_exporter": "python",
      "pygments_lexer": "ipython3",
      "version": "3.10.12"
    },
    "kaggle": {
      "accelerator": "gpu",
      "dataSources": [
        {
          "sourceId": 91451,
          "databundleVersionId": 11223220,
          "sourceType": "competition"
        },
        {
          "sourceId": 237145513,
          "sourceType": "kernelVersion"
        },
        {
          "sourceId": 237386462,
          "sourceType": "kernelVersion"
        }
      ],
      "dockerImageVersionId": 30919,
      "isInternetEnabled": true,
      "language": "python",
      "sourceType": "notebook",
      "isGpuEnabled": true
    },
    "colab": {
      "provenance": [],
      "gpuType": "A100",
      "include_colab_link": true
    },
    "accelerator": "GPU"
  },
  "nbformat_minor": 0,
  "nbformat": 4,
  "cells": [
    {
      "cell_type": "markdown",
      "metadata": {
        "id": "view-in-github",
        "colab_type": "text"
      },
      "source": [
        "<a href=\"https://colab.research.google.com/github/NickyTan8899/tjy/blob/main/pretrain_100epochs_aliked_disk.ipynb\" target=\"_parent\"><img src=\"https://colab.research.google.com/assets/colab-badge.svg\" alt=\"Open In Colab\"/></a>"
      ]
    },
    {
      "source": [
        "# IMPORTANT: SOME KAGGLE DATA SOURCES ARE PRIVATE\n",
        "# RUN THIS CELL IN ORDER TO IMPORT YOUR KAGGLE DATA SOURCES.\n",
        "import kagglehub\n",
        "kagglehub.login()\n"
      ],
      "metadata": {
        "id": "DU_i7VmMyZM7"
      },
      "cell_type": "code",
      "outputs": [],
      "execution_count": null
    },
    {
      "source": [
        "# IMPORTANT: RUN THIS CELL IN ORDER TO IMPORT YOUR KAGGLE DATA SOURCES,\n",
        "# THEN FEEL FREE TO DELETE THIS CELL.\n",
        "# NOTE: THIS NOTEBOOK ENVIRONMENT DIFFERS FROM KAGGLE'S PYTHON\n",
        "# ENVIRONMENT SO THERE MAY BE MISSING LIBRARIES USED BY YOUR\n",
        "# NOTEBOOK.\n",
        "\n",
        "animal_clef_2025_path = kagglehub.competition_download('animal-clef-2025')\n",
        "hathawaytan_balanced_accuracy_path = kagglehub.notebook_output_download('hathawaytan/balanced-accuracy')\n",
        "hathawaytan_baseline_with_wildfusion_path = kagglehub.notebook_output_download('hathawaytan/baseline-with-wildfusion')\n",
        "\n",
        "print('Data source import complete.')\n"
      ],
      "metadata": {
        "id": "F9o-C_kayZM9"
      },
      "cell_type": "code",
      "outputs": [],
      "execution_count": null
    },
    {
      "cell_type": "code",
      "source": [
        "!pip install git+https://github.com/WildlifeDatasets/wildlife-datasets@develop\n",
        "!pip install git+https://github.com/WildlifeDatasets/wildlife-tools"
      ],
      "metadata": {
        "_kg_hide-output": true,
        "execution": {
          "iopub.status.busy": "2025-05-05T09:45:16.139653Z",
          "iopub.execute_input": "2025-05-05T09:45:16.139918Z",
          "iopub.status.idle": "2025-05-05T09:45:53.307214Z",
          "shell.execute_reply.started": "2025-05-05T09:45:16.139896Z",
          "shell.execute_reply": "2025-05-05T09:45:53.306339Z"
        },
        "trusted": true,
        "id": "6fsreuNkyZM_"
      },
      "outputs": [],
      "execution_count": null
    },
    {
      "cell_type": "code",
      "source": [],
      "metadata": {
        "id": "dp9HVwidu8VX"
      },
      "execution_count": null,
      "outputs": []
    },
    {
      "cell_type": "code",
      "source": [
        "import os\n",
        "import numpy as np\n",
        "import pandas as pd\n",
        "import timm\n",
        "import torchvision.transforms as T\n",
        "from wildlife_datasets.datasets import AnimalCLEF2025\n",
        "from wildlife_tools.features import DeepFeatures\n",
        "from wildlife_tools.similarity import CosineSimilarity\n",
        "from wildlife_tools.similarity.wildfusion import SimilarityPipeline, WildFusion\n",
        "from wildlife_tools.similarity.pairwise.lightglue import MatchLightGlue\n",
        "from wildlife_tools.similarity.pairwise.loftr import MatchLOFTR\n",
        "from wildlife_tools.features.local import AlikedExtractor,SuperPointExtractor,SiftExtractor,DiskExtractor\n",
        "from wildlife_tools.similarity.calibration import IsotonicCalibration,LogisticCalibration\n",
        "import sys\n",
        "# sys.path.append('/kaggle/input/balanced-accuracy')  # 添加路径\n",
        "# from metric import score,BAKS,BAUS\n",
        "\n",
        "def create_sample_submission(dataset_query, predictions, file_name='submission.csv'):\n",
        "    df = pd.DataFrame({\n",
        "        'image_id': dataset_query.metadata['image_id'],\n",
        "        'identity': predictions\n",
        "    })\n",
        "    df.to_csv(file_name, index=False)"
      ],
      "metadata": {
        "execution": {
          "iopub.status.busy": "2025-05-05T09:45:53.31928Z",
          "iopub.execute_input": "2025-05-05T09:45:53.319566Z",
          "iopub.status.idle": "2025-05-05T09:46:18.266933Z",
          "shell.execute_reply.started": "2025-05-05T09:45:53.319543Z",
          "shell.execute_reply": "2025-05-05T09:46:18.266306Z"
        },
        "trusted": true,
        "id": "XRMui0peyZNA"
      },
      "outputs": [],
      "execution_count": null
    },
    {
      "cell_type": "code",
      "source": [
        "\n",
        "root = animal_clef_2025_path\n",
        "root"
      ],
      "metadata": {
        "execution": {
          "iopub.status.busy": "2025-05-05T09:46:18.269106Z",
          "iopub.execute_input": "2025-05-05T09:46:18.269657Z",
          "iopub.status.idle": "2025-05-05T09:46:18.274401Z",
          "shell.execute_reply.started": "2025-05-05T09:46:18.269632Z",
          "shell.execute_reply": "2025-05-05T09:46:18.273606Z"
        },
        "trusted": true,
        "id": "OlcrALZ6yZNA"
      },
      "outputs": [],
      "execution_count": null
    },
    {
      "cell_type": "code",
      "source": [
        "# Loading the dataset\n",
        "dataset = AnimalCLEF2025(root, load_label=True,transform=transform)\n",
        "dataset_database = dataset.get_subset(dataset.metadata['split'] == 'database')\n",
        "dataset_query = dataset.get_subset(dataset.metadata['split'] == 'query')\n",
        "dataset_calibration = AnimalCLEF2025(root, df=dataset_database.metadata[:100], load_label=True)\n",
        "meta=dataset.metadata.query('split == \"database\"')\n",
        "num_classes = meta[\"identity\"].nunique()\n",
        "print(f\"种类数: {num_classes}\")\n",
        "n_query=len(dataset_query)\n",
        "n_query"
      ],
      "metadata": {
        "execution": {
          "iopub.status.busy": "2025-05-05T09:46:18.277298Z",
          "iopub.execute_input": "2025-05-05T09:46:18.277608Z",
          "iopub.status.idle": "2025-05-05T09:46:55.894469Z",
          "shell.execute_reply.started": "2025-05-05T09:46:18.277578Z",
          "shell.execute_reply": "2025-05-05T09:46:55.893485Z"
        },
        "trusted": true,
        "id": "u5p0NoOEyZNA"
      },
      "outputs": [],
      "execution_count": null
    },
    {
      "cell_type": "code",
      "source": [
        "from itertools import chain\n",
        "import torch\n",
        "import timm\n",
        "import pandas as pd\n",
        "import torchvision.transforms as T\n",
        "from torch.optim import SGD\n",
        "import wildlife_tools\n",
        "from wildlife_tools.data import WildlifeDataset\n",
        "from wildlife_tools.train import ArcFaceLoss, BasicTrainer\n",
        "import importlib\n",
        "import wildlife_tools.data.dataset\n",
        "import gc\n",
        "\n",
        "# 清理 Python 层的垃圾\n",
        "gc.collect()\n",
        "\n",
        "# 清除 CUDA 缓存（释放未使用的显存）\n",
        "torch.cuda.empty_cache()\n",
        "importlib.reload(wildlife_tools.data.dataset)\n",
        "\n",
        "# 使用类\n",
        "WildlifeDataset = wildlife_tools.data.dataset.WildlifeDataset\n",
        "transform = T.Compose([\n",
        "    T.RandomResizedCrop(size=(224, 224), scale=(0.8, 1.0)),\n",
        "    T.RandAugment(num_ops=2, magnitude=20),\n",
        "    T.ToTensor(),\n",
        "    T.Normalize(mean=(0.485, 0.456, 0.406), std=(0.229, 0.224, 0.225)),\n",
        "])\n",
        "train_dataset=WildlifeDataset(root=root,metadata =meta,transform=transform ,load_label=True)\n",
        "print(len(train_dataset))\n",
        "# Backbone and loss configuration\n",
        "backbone = timm.create_model('swin_base_patch4_window7_224', num_classes=0, pretrained=True)\n",
        "with torch.no_grad():\n",
        "    dummy_input = torch.randn(1, 3, 224, 224)\n",
        "    embedding_size = backbone(dummy_input).shape[1]\n",
        "    print(embedding_size)#1024\n",
        "objective = ArcFaceLoss(num_classes=train_dataset.num_classes, embedding_size=embedding_size, margin=0.5, scale=64)\n",
        "\n",
        "\n",
        "# Optimizer and scheduler configuration\n",
        "params = chain(backbone.parameters(), objective.parameters())\n",
        "optimizer = SGD(params=params, lr=0.001, momentum=0.9)\n",
        "min_lr = optimizer.defaults.get(\"lr\") * 1e-3\n",
        "scheduler = torch.optim.lr_scheduler.CosineAnnealingLR(optimizer, T_max=100, eta_min=min_lr)\n",
        "\n",
        "importlib.reload(wildlife_tools.train.trainer)\n",
        "\n",
        "# Step 2: 重新导入类（必须在 reload 之后！）\n",
        "from wildlife_tools.train.trainer import BasicTrainer\n",
        "# Setup training\n",
        "trainer = BasicTrainer(\n",
        "    dataset=train_dataset,\n",
        "    model=backbone,\n",
        "    objective=objective,\n",
        "    optimizer=optimizer,\n",
        "    scheduler=scheduler,\n",
        "    batch_size=64,\n",
        "    accumulation_steps=2,\n",
        "    num_workers=2,\n",
        "    epochs=100,\n",
        "    device='cuda',\n",
        ")\n",
        "\n",
        "trainer.train() # Call the modified train function\n",
        "# trainer.save(\"/content/final_checkpoints\", file_name=\"final_model.pth\")"
      ],
      "metadata": {
        "trusted": true,
        "id": "9IkgJXHLyZNA"
      },
      "outputs": [],
      "execution_count": null
    },
    {
      "cell_type": "code",
      "source": [],
      "metadata": {
        "id": "WDTpN3M_YACV"
      },
      "execution_count": null,
      "outputs": []
    },
    {
      "cell_type": "code",
      "source": [],
      "metadata": {
        "id": "S98KQMjZYDh6"
      },
      "execution_count": null,
      "outputs": []
    },
    {
      "cell_type": "code",
      "source": [
        "# Loading the models\n",
        "\n",
        "device = 'cuda'\n",
        "model=backbone\n",
        "pipelines = [\n",
        "\n",
        "\n",
        "    SimilarityPipeline(\n",
        "        matcher = MatchLightGlue(features='aliked'),\n",
        "        extractor = AlikedExtractor(),\n",
        "        transform = T.Compose([\n",
        "            T.Resize([256, 256]),\n",
        "            T.ToTensor()\n",
        "        ]),\n",
        "        calibration = IsotonicCalibration()\n",
        "    ),\n",
        "\n",
        "    SimilarityPipeline(\n",
        "        matcher = MatchLightGlue(features='disk'),\n",
        "        extractor = DiskExtractor(),\n",
        "        transform = T.Compose([\n",
        "            T.Resize([256, 256]),\n",
        "            T.ToTensor()\n",
        "        ]),\n",
        "        calibration = IsotonicCalibration()\n",
        "    ),\n",
        "]\n",
        "\n",
        "matcher_mega = SimilarityPipeline(\n",
        "    matcher = CosineSimilarity(),\n",
        "    extractor = DeepFeatures(model=model, device=device, batch_size=16),\n",
        "    transform = transform,\n",
        "    calibration =IsotonicCalibration()\n",
        ")"
      ],
      "metadata": {
        "_kg_hide-input": false,
        "_kg_hide-output": true,
        "execution": {
          "iopub.status.busy": "2025-05-05T09:46:55.895354Z",
          "iopub.execute_input": "2025-05-05T09:46:55.895619Z",
          "iopub.status.idle": "2025-05-05T09:47:01.752497Z",
          "shell.execute_reply.started": "2025-05-05T09:46:55.895597Z",
          "shell.execute_reply": "2025-05-05T09:47:01.751496Z"
        },
        "trusted": true,
        "id": "0-igJ3euyZNB"
      },
      "outputs": [],
      "execution_count": null
    },
    {
      "cell_type": "code",
      "source": [
        "# Calibrating the WildFusion\n",
        "\n",
        "wildfusion = WildFusion(calibrated_pipelines = pipelines, priority_pipeline = matcher_mega)\n",
        "wildfusion.fit_calibration(dataset_calibration, dataset_calibration)"
      ],
      "metadata": {
        "trusted": true,
        "execution": {
          "iopub.status.busy": "2025-05-05T09:47:01.753485Z",
          "iopub.execute_input": "2025-05-05T09:47:01.753781Z",
          "iopub.status.idle": "2025-05-05T09:47:52.625847Z",
          "shell.execute_reply.started": "2025-05-05T09:47:01.753759Z",
          "shell.execute_reply": "2025-05-05T09:47:52.624996Z"
        },
        "id": "sJOnWKARyZNB"
      },
      "outputs": [],
      "execution_count": null
    },
    {
      "cell_type": "code",
      "source": [
        "# Compute WildFusion similarity\n",
        "similarity = wildfusion(dataset_query, dataset_database, B=25)"
      ],
      "metadata": {
        "trusted": true,
        "execution": {
          "iopub.status.busy": "2025-05-05T09:47:52.626849Z",
          "iopub.execute_input": "2025-05-05T09:47:52.627137Z",
          "iopub.status.idle": "2025-05-05T09:59:58.125834Z",
          "shell.execute_reply.started": "2025-05-05T09:47:52.627113Z",
          "shell.execute_reply": "2025-05-05T09:59:58.125014Z"
        },
        "id": "_LnftWVMyZNB"
      },
      "outputs": [],
      "execution_count": null
    },
    {
      "cell_type": "code",
      "source": [
        "pred_idx = similarity.argsort(axis=1)[:,-1]\n",
        "pred_scores = similarity[range(n_query), pred_idx]\n",
        "similarity.shape\n",
        "labels = dataset_database.labels_string\n",
        "pred_scores.shape"
      ],
      "metadata": {
        "execution": {
          "iopub.status.busy": "2025-05-05T09:59:58.126875Z",
          "iopub.execute_input": "2025-05-05T09:59:58.127213Z",
          "iopub.status.idle": "2025-05-05T09:59:59.537059Z",
          "shell.execute_reply.started": "2025-05-05T09:59:58.12716Z",
          "shell.execute_reply": "2025-05-05T09:59:59.536399Z"
        },
        "trusted": true,
        "id": "FAh0QKvQyZNB"
      },
      "outputs": [],
      "execution_count": null
    },
    {
      "cell_type": "code",
      "source": [
        "for threshold in [0.2, 0.3, 0.4, 0.5, 0.6,0.7,0.8]:\n",
        "    predictions = labels[pred_idx]\n",
        "    predictions[pred_scores < threshold] = 'new_individual'\n",
        "    create_sample_submission(dataset_query, predictions, file_name=f'sample_submission_{threshold}.csv')"
      ],
      "metadata": {
        "execution": {
          "iopub.status.busy": "2025-05-05T09:59:59.537998Z",
          "iopub.execute_input": "2025-05-05T09:59:59.538336Z",
          "iopub.status.idle": "2025-05-05T09:59:59.541819Z",
          "shell.execute_reply.started": "2025-05-05T09:59:59.538304Z",
          "shell.execute_reply": "2025-05-05T09:59:59.541005Z"
        },
        "trusted": true,
        "id": "iL8gf63CyZNB"
      },
      "outputs": [],
      "execution_count": null
    },
    {
      "cell_type": "code",
      "source": [],
      "metadata": {
        "trusted": true,
        "id": "gzZl5vnHyZNB"
      },
      "outputs": [],
      "execution_count": null
    }
  ]
}